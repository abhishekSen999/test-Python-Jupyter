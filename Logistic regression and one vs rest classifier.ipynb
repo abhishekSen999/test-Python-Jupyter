{
 "cells": [
  {
   "cell_type": "code",
   "execution_count": 1,
   "metadata": {},
   "outputs": [
    {
     "name": "stdout",
     "output_type": "stream",
     "text": [
      "LogisticRegression 93.75\n",
      "OneVsRestClassifier 95.0\n"
     ]
    }
   ],
   "source": [
    "from sklearn.datasets import fetch_olivetti_faces\n",
    "from sklearn.multiclass import OneVsRestClassifier\n",
    "from sklearn.svm import LinearSVC\n",
    "from sklearn.linear_model import LogisticRegression\n",
    "from sklearn.metrics import accuracy_score\n",
    "import random\n",
    "import numpy as np\n",
    "import math\n",
    "\n",
    "data = fetch_olivetti_faces()\n",
    "\n",
    "X = data.data\n",
    "Y = data.target\n",
    "n_train = math.ceil(len(X)*60/100)\n",
    "\n",
    "train_indices = random.sample(range(0, len(X)), n_train)\n",
    "test_indices = [ i for i in range(0, len(X)) if i not in train_indices ]\n",
    "\n",
    "model = LogisticRegression()\n",
    "model.fit(X[train_indices],Y[train_indices])\n",
    "print(\"LogisticRegression\", model.score(X[test_indices],Y[test_indices])*100)\n",
    "\n",
    "classifier = OneVsRestClassifier(LinearSVC(random_state=0))\n",
    "classifier.fit(X[train_indices],Y[train_indices])\n",
    "print(\"OneVsRestClassifier\", classifier.score(X[test_indices],Y[test_indices])*100 )\n",
    "\n",
    "\n"
   ]
  },
  {
   "cell_type": "code",
   "execution_count": null,
   "metadata": {},
   "outputs": [],
   "source": []
  }
 ],
 "metadata": {
  "kernelspec": {
   "display_name": "Python 3",
   "language": "python",
   "name": "python3"
  },
  "language_info": {
   "codemirror_mode": {
    "name": "ipython",
    "version": 3
   },
   "file_extension": ".py",
   "mimetype": "text/x-python",
   "name": "python",
   "nbconvert_exporter": "python",
   "pygments_lexer": "ipython3",
   "version": "3.6.5"
  }
 },
 "nbformat": 4,
 "nbformat_minor": 2
}
