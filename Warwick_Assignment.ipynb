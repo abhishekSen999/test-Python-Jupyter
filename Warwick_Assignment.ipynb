{
 "cells": [
  {
   "cell_type": "code",
   "execution_count": 14,
   "metadata": {},
   "outputs": [],
   "source": [
    "import pandas as pd\n",
    "import numpy as np"
   ]
  },
  {
   "cell_type": "code",
   "execution_count": 25,
   "metadata": {},
   "outputs": [],
   "source": [
    "football=pd.read_csv('football.csv')"
   ]
  },
  {
   "cell_type": "code",
   "execution_count": 26,
   "metadata": {},
   "outputs": [
    {
     "name": "stdout",
     "output_type": "stream",
     "text": [
      "<class 'pandas.core.frame.DataFrame'>\n"
     ]
    }
   ],
   "source": [
    "print(type(football))"
   ]
  },
  {
   "cell_type": "code",
   "execution_count": 27,
   "metadata": {},
   "outputs": [
    {
     "name": "stdout",
     "output_type": "stream",
     "text": [
      "<class 'pandas.core.series.Series'>\n"
     ]
    }
   ],
   "source": [
    "print(type(football.Goals))"
   ]
  },
  {
   "cell_type": "code",
   "execution_count": 29,
   "metadata": {},
   "outputs": [
    {
     "name": "stdout",
     "output_type": "stream",
     "text": [
      "0     36\n",
      "1     30\n",
      "2     45\n",
      "3     52\n",
      "4     37\n",
      "5     38\n",
      "6     57\n",
      "7     47\n",
      "8     53\n",
      "9     51\n",
      "10    54\n",
      "11    47\n",
      "12    44\n",
      "13    49\n",
      "14    57\n",
      "15    62\n",
      "16    51\n",
      "17    64\n",
      "18    63\n",
      "19    64\n",
      "Name: Goals_Allowed, dtype: int64\n"
     ]
    }
   ],
   "source": [
    "print(football.Goals_Allowed)"
   ]
  },
  {
   "cell_type": "code",
   "execution_count": 41,
   "metadata": {},
   "outputs": [
    {
     "name": "stdout",
     "output_type": "stream",
     "text": [
      "79\n"
     ]
    }
   ],
   "source": [
    "np_goals=np.array(football.Goals)"
   ]
  },
  {
   "cell_type": "code",
   "execution_count": 42,
   "metadata": {},
   "outputs": [
    {
     "name": "stdout",
     "output_type": "stream",
     "text": [
      "[79 67 87 74 53 66 48 46 49 55 46 35 36 38 45 44 29 41 33 30]\n"
     ]
    }
   ],
   "source": [
    "print(np_goals)\n"
   ]
  },
  {
   "cell_type": "code",
   "execution_count": 43,
   "metadata": {},
   "outputs": [],
   "source": [
    "np_goals_allowed=np.array(football.Goals_Allowed)"
   ]
  },
  {
   "cell_type": "code",
   "execution_count": 45,
   "metadata": {},
   "outputs": [
    {
     "name": "stdout",
     "output_type": "stream",
     "text": [
      "[36 30 45 52 37 38 57 47 53 51 54 47 44 49 57 62 51 64 63 64]\n"
     ]
    }
   ],
   "source": [
    "print(np_goals_allowed)"
   ]
  },
  {
   "cell_type": "code",
   "execution_count": 46,
   "metadata": {},
   "outputs": [],
   "source": [
    "np_team=np.array(football.Team)"
   ]
  },
  {
   "cell_type": "code",
   "execution_count": 49,
   "metadata": {},
   "outputs": [
    {
     "name": "stdout",
     "output_type": "stream",
     "text": [
      "['Arsenal' 'Liverpool' 'Manchester United' 'Newcastle' 'Leeds' 'Chelsea'\n",
      " 'West_Ham' 'Aston_Villa' 'Tottenham' 'Blackburn' 'Southampton'\n",
      " 'Middlesbrough' 'Fulham' 'Charlton' 'Everton' 'Bolton' 'Sunderland'\n",
      " 'Ipswich' 'Derby' 'Leicester']\n"
     ]
    }
   ],
   "source": [
    "print(np_team)"
   ]
  },
  {
   "cell_type": "code",
   "execution_count": 66,
   "metadata": {},
   "outputs": [],
   "source": [
    "np_diff=abs(np_goals[ :]-np_goals_allowed[:])"
   ]
  },
  {
   "cell_type": "code",
   "execution_count": 67,
   "metadata": {},
   "outputs": [
    {
     "name": "stdout",
     "output_type": "stream",
     "text": [
      "[43 37 42 22 16 28  9  1  4  4  8 12  8 11 12 18 22 23 30 34]\n"
     ]
    }
   ],
   "source": [
    "print(np_diff)"
   ]
  },
  {
   "cell_type": "code",
   "execution_count": 68,
   "metadata": {},
   "outputs": [
    {
     "name": "stdout",
     "output_type": "stream",
     "text": [
      "7\n"
     ]
    }
   ],
   "source": [
    "print(np_diff.argmin())"
   ]
  },
  {
   "cell_type": "code",
   "execution_count": null,
   "metadata": {},
   "outputs": [],
   "source": []
  },
  {
   "cell_type": "code",
   "execution_count": null,
   "metadata": {},
   "outputs": [],
   "source": []
  }
 ],
 "metadata": {
  "kernelspec": {
   "display_name": "Python 3",
   "language": "python",
   "name": "python3"
  },
  "language_info": {
   "codemirror_mode": {
    "name": "ipython",
    "version": 3
   },
   "file_extension": ".py",
   "mimetype": "text/x-python",
   "name": "python",
   "nbconvert_exporter": "python",
   "pygments_lexer": "ipython3",
   "version": "3.6.5"
  }
 },
 "nbformat": 4,
 "nbformat_minor": 2
}
