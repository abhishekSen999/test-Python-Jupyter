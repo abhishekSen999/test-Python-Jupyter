{
 "cells": [
  {
   "cell_type": "code",
   "execution_count": 1,
   "metadata": {},
   "outputs": [],
   "source": [
    "import numpy as np\n",
    "n=np.array([[0,1,2],[3,4,5],[6,7,8],[9,10,11],[12,13,14],[15,16,17]])"
   ]
  },
  {
   "cell_type": "code",
   "execution_count": 8,
   "metadata": {},
   "outputs": [
    {
     "name": "stdout",
     "output_type": "stream",
     "text": [
      "5\n"
     ]
    }
   ],
   "source": [
    "print(n[1,2])"
   ]
  },
  {
   "cell_type": "code",
   "execution_count": 2,
   "metadata": {},
   "outputs": [
    {
     "name": "stdout",
     "output_type": "stream",
     "text": [
      "[0 1 2 3]\n"
     ]
    }
   ],
   "source": [
    "import numpy as np\n",
    "ar=[0,1,2,3]\n",
    "npar=np.array(ar)\n",
    "print(npar)"
   ]
  },
  {
   "cell_type": "code",
   "execution_count": 3,
   "metadata": {},
   "outputs": [],
   "source": [
    "import numpy as np\n",
    "import math\n",
    "def sudoku_solver(side=9,arr=[[5,3,0,0,7,0,0,0,0],[6,0,0,1,9,5,0,0,0],[0,9,8,0,0,0,0,6,0],[8,0,0,0,6,0,0,0,3],[4,0,0,8,0,3,0,0,1],[7,0,0,0,2,0,0,0,6],[0,6,0,0,0,0,2,8,0],[0,0,0,4,1,9,0,0,5],[0,0,0,0,8,0,0,7,9]],row=0,col=0):\n",
    "        root=int(math.sqrt(side))\n",
    "        sudoku=np.copy(arr)\n",
    "        if isSolved(side,sudoku): return [True,sudoku]\n",
    "        \n",
    "        #skipping over filled up slots\n",
    "        while sudoku[row,col]!=0:\n",
    "            row+=0 if col<(side-1) else 1\n",
    "            col=(col+1)%side\n",
    "        \n",
    "        row_array=sudoku[row,:]\n",
    "        col_array=sudoku[:,col]\n",
    "        \n",
    "        r=row-row%root #row number of 1st element in that internal square\n",
    "        c=col-col%root #col number of 1st element in that internal square\n",
    "        #various ways :-\n",
    "        \n",
    "        #internal_square_array=np.zeros(side,dtype=np.int8)\n",
    "        #k=0\n",
    "        #for i in range(0,root):\n",
    "        #    for j in range(0,root):\n",
    "        #        internal_square_array[k]=sudoku[r+i,c+j]\n",
    "        \n",
    "        #internal_square_array=np.array([j for i in sudoku[r:r+root] for j in i[c:c+root]])\n",
    "        \n",
    "        internal_square_array=sudoku[r:r+root,c:c+root].reshape(side)\n",
    "        \n",
    "        \n",
    "        \n",
    "        possible=np.array([i for i in range(1,side+1)])\n",
    "        \n",
    "        allowed_values=np.setdiff1d(possible,row_array)\n",
    "        allowed_values=np.setdiff1d(allowed_values,col_array)\n",
    "        allowed_values=np.setdiff1d(allowed_values,internal_square_array)\n",
    "        \n",
    "        for value in allowed_values:\n",
    "            sudoku[row,col]=value\n",
    "            row1=row\n",
    "            col1=col\n",
    "            row1+=0 if col<(side-1) else 1\n",
    "            col1=(col1+1)%side\n",
    "            recieved=sudoku_solver(side,sudoku,row1,col1)\n",
    "            if recieved[0]==True :\n",
    "                return recieved\n",
    "            \n",
    "        return[False]\n",
    "        "
   ]
  },
  {
   "cell_type": "code",
   "execution_count": 4,
   "metadata": {},
   "outputs": [],
   "source": [
    "def isSolved(side=9,arr= np.array([[5, 3, 4, 6, 7, 8, 9, 1, 2],[6, 7, 2, 1, 9, 5, 3, 4, 8],[1, 9, 8, 3, 4, 2, 5, 6, 7],[8, 5, 9, 7, 6, 1, 4, 2, 3],[4, 2, 6, 8, 5, 3, 7, 9, 1],[7, 1, 3, 9, 2, 4, 8, 5, 6],[9, 6, 1, 5, 3, 7, 2, 8, 4],[2, 8, 7, 4, 1, 9, 6, 3, 5],[3, 4, 5, 2, 8, 6, 1, 7, 9]])):\n",
    "        result=int(side*(side+1)/2)\n",
    "        \n",
    "        root=int(math.sqrt(side))\n",
    "        \n",
    "        #checking rows\n",
    "        for i in np.sum(arr,0):\n",
    "            if i!=result :\n",
    "                return False\n",
    "            \n",
    "        #checking columns\n",
    "        for i in np.sum(arr,1):\n",
    "            if i!=result :\n",
    "                return False\n",
    "            \n",
    "        #checking internal squares\n",
    "        check_arr=np.zeros((root,root),dtype=np.int8)\n",
    "        for row in range(0,side):\n",
    "            for col in range(0,side):\n",
    "                check_arr[int((row-row%root)/root)][int((col-col%root)/root)]+=arr[row][col]\n",
    "        \n",
    "        if len([False for i,j in zip(range(root),range(root)) if check_arr[i,j]!=result])>0:\n",
    "            return False\n",
    "        \n",
    "        \n",
    "        return True\n",
    "        \n",
    "                    "
   ]
  },
  {
   "cell_type": "code",
   "execution_count": 5,
   "metadata": {},
   "outputs": [
    {
     "name": "stdout",
     "output_type": "stream",
     "text": [
      "[5 6 1 8 4 7 9 2 3]\n"
     ]
    }
   ],
   "source": [
    "arr=np.array([[5, 3, 4, 6, 7, 8, 9, 1, 2],[6, 7, 2, 1, 9, 5, 3, 4, 8],[1, 9, 8, 3, 4, 2, 5, 6, 7],[8, 5, 9, 7, 6, 1, 4, 2, 3],[4, 2, 6, 8, 5, 3, 7, 9, 1],[7, 1, 3, 9, 2, 4, 8, 5, 6],[9, 6, 1, 5, 3, 7, 2, 8, 4],[2, 8, 7, 4, 1, 9, 6, 3, 5],[3, 4, 5, 2, 8, 6, 1, 7, 9]])\n",
    "\n",
    "print(arr[:,0])"
   ]
  },
  {
   "cell_type": "code",
   "execution_count": 6,
   "metadata": {},
   "outputs": [
    {
     "ename": "NameError",
     "evalue": "name 'isCorrect' is not defined",
     "output_type": "error",
     "traceback": [
      "\u001b[1;31m---------------------------------------------------------------------------\u001b[0m",
      "\u001b[1;31mNameError\u001b[0m                                 Traceback (most recent call last)",
      "\u001b[1;32m<ipython-input-6-5b219ea8935d>\u001b[0m in \u001b[0;36m<module>\u001b[1;34m()\u001b[0m\n\u001b[1;32m----> 1\u001b[1;33m \u001b[0misCorrect\u001b[0m\u001b[1;33m(\u001b[0m\u001b[1;33m)\u001b[0m\u001b[1;33m\u001b[0m\u001b[0m\n\u001b[0m",
      "\u001b[1;31mNameError\u001b[0m: name 'isCorrect' is not defined"
     ]
    }
   ],
   "source": [
    "isCorrect()"
   ]
  },
  {
   "cell_type": "code",
   "execution_count": null,
   "metadata": {},
   "outputs": [],
   "source": [
    "npar=np.array([0,1,2])\n",
    "print(npar.shape)"
   ]
  },
  {
   "cell_type": "code",
   "execution_count": null,
   "metadata": {},
   "outputs": [],
   "source": [
    "a=0\n",
    "a+=0 if 6<5 else 1"
   ]
  },
  {
   "cell_type": "code",
   "execution_count": null,
   "metadata": {},
   "outputs": [],
   "source": [
    "print (a)"
   ]
  },
  {
   "cell_type": "code",
   "execution_count": null,
   "metadata": {},
   "outputs": [],
   "source": [
    "print( [i for i in range(1,10)] )"
   ]
  },
  {
   "cell_type": "code",
   "execution_count": null,
   "metadata": {},
   "outputs": [],
   "source": [
    "arr=np.array([[5, 3, 4, 6, 7, 8, 9, 1, 2],[6, 7, 2, 1, 9, 5, 3, 4, 8],[1, 9, 8, 3, 4, 2, 5, 6, 7],[8, 5, 9, 7, 6, 1, 4, 2, 3],[4, 2, 6, 8, 5, 3, 7, 9, 1],[7, 1, 3, 9, 2, 4, 8, 5, 6],[9, 6, 1, 5, 3, 7, 2, 8, 4],[2, 8, 7, 4, 1, 9, 6, 3, 5],[3, 4, 5, 2, 8, 6, 1, 7, 9]])\n",
    "r=6\n",
    "c=6\n",
    "root=3\n",
    "intar=[j for i in arr[r:r+root] for j in i[c:c+root]]\n",
    "print(intar)\n",
    "print(arr[r:r+root,c:c+root].reshape(root*root))"
   ]
  },
  {
   "cell_type": "code",
   "execution_count": 7,
   "metadata": {},
   "outputs": [
    {
     "name": "stdout",
     "output_type": "stream",
     "text": [
      "[[5 3 4 6 7 8 9 1 2]\n",
      " [6 7 2 1 9 5 3 4 8]\n",
      " [1 9 8 3 4 2 5 6 7]\n",
      " [8 5 9 7 6 1 4 2 3]\n",
      " [4 2 6 8 5 3 7 9 1]\n",
      " [7 1 3 9 2 4 8 5 6]\n",
      " [9 6 1 5 3 7 2 8 4]\n",
      " [2 8 7 4 1 9 6 3 5]\n",
      " [3 4 5 2 8 6 1 7 9]]\n"
     ]
    }
   ],
   "source": [
    "print(sudoku_solver()[1])"
   ]
  },
  {
   "cell_type": "code",
   "execution_count": 8,
   "metadata": {},
   "outputs": [
    {
     "name": "stdout",
     "output_type": "stream",
     "text": [
      "[[4 1 2 3]\n",
      " [3 2 4 1]\n",
      " [1 4 3 2]\n",
      " [2 3 1 4]]\n"
     ]
    }
   ],
   "source": [
    "print (sudoku_solver(4,[[0,0,0,3],[3,2,4,0],[0,4,3,2],[2,0,0,0]])[1])"
   ]
  },
  {
   "cell_type": "code",
   "execution_count": null,
   "metadata": {},
   "outputs": [],
   "source": []
  }
 ],
 "metadata": {
  "kernelspec": {
   "display_name": "Python 3",
   "language": "python",
   "name": "python3"
  },
  "language_info": {
   "codemirror_mode": {
    "name": "ipython",
    "version": 3
   },
   "file_extension": ".py",
   "mimetype": "text/x-python",
   "name": "python",
   "nbconvert_exporter": "python",
   "pygments_lexer": "ipython3",
   "version": "3.6.5"
  }
 },
 "nbformat": 4,
 "nbformat_minor": 2
}
