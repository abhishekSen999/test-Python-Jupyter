{
 "cells": [
  {
   "cell_type": "code",
   "execution_count": 41,
   "metadata": {},
   "outputs": [],
   "source": [
    "bufferVariables=list([])\n",
    "bufferValues=list([])\n",
    "def findValue( expression=\"2+3*(5-3)+2\" ):\n",
    "    \n",
    "    #print (expression)\n",
    "    val=0\n",
    "    bracket=expression.find('(')\n",
    "    if(bracket!=-1):\n",
    "        endBracket=expression.find(')')\n",
    "        expression=expression[0:bracket]+str(findValue(expression[bracket+1:endBracket]))+expression[endBracket+1:]\n",
    "        return(findValue(expression))\n",
    "    \n",
    "    divide=expression.find('/')\n",
    "    multiply=expression.find('*')\n",
    "    add=expression.find('+')\n",
    "    sub=expression.find('-')\n",
    "    \n",
    "    \n",
    "    \n",
    "    #if expression is just number or variable\n",
    "    if divide==-1 and multiply==-1 and add ==-1 and sub==-1:\n",
    "        if expression.isnumeric():return(int(expression))\n",
    "        elif bufferVariables.__contains__(expression):return bufferValues[bufferVariables.index(expression)]\n",
    "        else: exit(0)    \n",
    "        \n",
    "               \n",
    "               \n",
    "               \n",
    "               \n",
    "    \n",
    "    if add!=-1:\n",
    "        #print(\"add\")\n",
    "        val=findValue(expression[0:add])+findValue(expression[add+1:])\n",
    "        return val\n",
    "    elif sub!=-1: \n",
    "        #print(\"sub\")\n",
    "        val=findValue(expression[0:sub])-findValue(expression[sub+1:])\n",
    "        return val\n",
    "    elif multiply!=-1:\n",
    "        #print(\"multiply\")\n",
    "        val=findValue(expression[0:multiply])*findValue(expression[multiply+1:])\n",
    "        return val\n",
    "    else:\n",
    "        #print(\"divide\")\n",
    "        val=findValue(expression[0:divide])/findValue(expression[divide+1:])\n",
    "        return val \n",
    "        \n",
    "\n",
    "\n",
    "def checkEquation():\n",
    "    s=list([\"y=5\",\"x=y+4\",\"x=3*x\",\"x=x+y\"])\n",
    "    \n",
    "    for i in s:\n",
    "        assignment=i.find(\"=\")\n",
    "        #checking if assignment is taking place in the statement\n",
    "        if assignment!= -1:\n",
    "            var=i[0:assignment]#extracting the name of the variable\n",
    "            #print(var)\n",
    "            if bufferVariables.__contains__(var):\n",
    "                val=findValue(i[assignment+1:])\n",
    "                bufferValues[bufferVariables.index(var)]=val\n",
    "            else:\n",
    "                bufferVariables.append(var)\n",
    "                bufferValues.append(findValue(i[assignment+1:]))\n",
    "                \n",
    "                                  \n",
    "    print(\"output\")\n",
    "    print(bufferVariables)\n",
    "    print(bufferValues)\n",
    "                    \n"
   ]
  },
  {
   "cell_type": "code",
   "execution_count": 42,
   "metadata": {},
   "outputs": [
    {
     "name": "stdout",
     "output_type": "stream",
     "text": [
      "output\n",
      "['y', 'x']\n",
      "[5, 32]\n"
     ]
    }
   ],
   "source": [
    "checkEquation()"
   ]
  },
  {
   "cell_type": "code",
   "execution_count": 26,
   "metadata": {},
   "outputs": [
    {
     "data": {
      "text/plain": [
       "1"
      ]
     },
     "execution_count": 26,
     "metadata": {},
     "output_type": "execute_result"
    }
   ],
   "source": [
    "s=[\"j\",\"he\",\"yy\"]\n",
    "k=0\n",
    "s.__contains__('he')\n",
    "s.index('he')"
   ]
  },
  {
   "cell_type": "code",
   "execution_count": 46,
   "metadata": {},
   "outputs": [
    {
     "name": "stdout",
     "output_type": "stream",
     "text": [
      "lo\n"
     ]
    }
   ],
   "source": [
    "s=\"hello\"\n",
    "a=3\n",
    "print(s[a:])"
   ]
  },
  {
   "cell_type": "code",
   "execution_count": 39,
   "metadata": {},
   "outputs": [
    {
     "name": "stdout",
     "output_type": "stream",
     "text": [
      "2\n"
     ]
    }
   ],
   "source": [
    "s=\"hello\"\n",
    "print(s.find('l'))"
   ]
  },
  {
   "cell_type": "code",
   "execution_count": null,
   "metadata": {},
   "outputs": [],
   "source": []
  },
  {
   "cell_type": "code",
   "execution_count": null,
   "metadata": {},
   "outputs": [],
   "source": []
  },
  {
   "cell_type": "code",
   "execution_count": null,
   "metadata": {},
   "outputs": [],
   "source": []
  },
  {
   "cell_type": "code",
   "execution_count": 34,
   "metadata": {},
   "outputs": [
    {
     "ename": "SyntaxError",
     "evalue": "invalid syntax (<ipython-input-34-a28326802afe>, line 1)",
     "output_type": "error",
     "traceback": [
      "\u001b[1;36m  File \u001b[1;32m\"<ipython-input-34-a28326802afe>\"\u001b[1;36m, line \u001b[1;32m1\u001b[0m\n\u001b[1;33m    if((a=\"abc\".find(a))!=-1):\u001b[0m\n\u001b[1;37m         ^\u001b[0m\n\u001b[1;31mSyntaxError\u001b[0m\u001b[1;31m:\u001b[0m invalid syntax\n"
     ]
    }
   ],
   "source": [
    "if((a=\"abc\".find(a))!=-1):\n",
    "    print(a)"
   ]
  },
  {
   "cell_type": "code",
   "execution_count": null,
   "metadata": {},
   "outputs": [],
   "source": []
  },
  {
   "cell_type": "code",
   "execution_count": 1,
   "metadata": {},
   "outputs": [],
   "source": [
    "def findValue( expression=\"2+3*(5-3)+2\" ):\n",
    "    #if len(expression)==0: return \n",
    "    print (expression)\n",
    "    val=0\n",
    "    bracket=expression.find('(')\n",
    "    if(bracket!=-1):\n",
    "        endBracket=expression.find(')')\n",
    "        expression=expression[0:bracket]+str(findValue(expression[bracket+1:endBracket]))+expression[endBracket+1:]\n",
    "        return(findValue(expression))\n",
    "    \n",
    "    divide=expression.find('/')\n",
    "    multiply=expression.find('*')\n",
    "    add=expression.find('+')\n",
    "    sub=expression.find('-')\n",
    "    \n",
    "    \n",
    "    \n",
    "    #if expression is just number or variable\n",
    "    if divide==-1 and multiply==-1 and add ==-1 and sub==-1:\n",
    "        return int(expression)\n",
    "               \n",
    "               \n",
    "               \n",
    "               \n",
    "    \n",
    "    if add!=-1:\n",
    "        #print(\"add\")\n",
    "        val=findValue(expression[0:add])+findValue(expression[add+1:])\n",
    "        return val\n",
    "    elif sub!=-1: \n",
    "        #print(\"sub\")\n",
    "        val=findValue(expression[0:sub])-findValue(expression[sub+1:])\n",
    "        return val\n",
    "    elif multiply!=-1:\n",
    "        #print(\"multiply\")\n",
    "        val=findValue(expression[0:multiply])*findValue(expression[multiply+1:])\n",
    "        return val\n",
    "    else:\n",
    "        #print(\"divide\")\n",
    "        val=findValue(expression[0:divide])/findValue(expression[divide+1:])\n",
    "        return val \n",
    "        \n",
    "\n",
    "   \n",
    "    \n",
    "    "
   ]
  },
  {
   "cell_type": "code",
   "execution_count": 2,
   "metadata": {},
   "outputs": [
    {
     "name": "stdout",
     "output_type": "stream",
     "text": [
      "2+3*(5-3)+2\n",
      "5-3\n",
      "sub\n",
      "5\n",
      "3\n",
      "2+3*2+2\n",
      "add\n",
      "2\n",
      "3*2+2\n",
      "add\n",
      "3*2\n",
      "multiply\n",
      "3\n",
      "2\n",
      "2\n",
      "10\n"
     ]
    }
   ],
   "source": [
    "print(findValue())"
   ]
  },
  {
   "cell_type": "code",
   "execution_count": 6,
   "metadata": {},
   "outputs": [
    {
     "name": "stdout",
     "output_type": "stream",
     "text": [
      "True\n"
     ]
    }
   ],
   "source": [
    "expression=\"123(4567)890\"\n",
    "bracket=3\n",
    "endBracket=8\n",
    "expression=expression[0:bracket]+str(int(expression[bracket+1:endBracket]))+expression[endBracket+1:]\n",
    "print(expression.isnumeric())"
   ]
  },
  {
   "cell_type": "code",
   "execution_count": 13,
   "metadata": {},
   "outputs": [
    {
     "name": "stdout",
     "output_type": "stream",
     "text": [
      "Help on class list in module builtins:\n",
      "\n",
      "class list(object)\n",
      " |  list() -> new empty list\n",
      " |  list(iterable) -> new list initialized from iterable's items\n",
      " |  \n",
      " |  Methods defined here:\n",
      " |  \n",
      " |  __add__(self, value, /)\n",
      " |      Return self+value.\n",
      " |  \n",
      " |  __contains__(self, key, /)\n",
      " |      Return key in self.\n",
      " |  \n",
      " |  __delitem__(self, key, /)\n",
      " |      Delete self[key].\n",
      " |  \n",
      " |  __eq__(self, value, /)\n",
      " |      Return self==value.\n",
      " |  \n",
      " |  __ge__(self, value, /)\n",
      " |      Return self>=value.\n",
      " |  \n",
      " |  __getattribute__(self, name, /)\n",
      " |      Return getattr(self, name).\n",
      " |  \n",
      " |  __getitem__(...)\n",
      " |      x.__getitem__(y) <==> x[y]\n",
      " |  \n",
      " |  __gt__(self, value, /)\n",
      " |      Return self>value.\n",
      " |  \n",
      " |  __iadd__(self, value, /)\n",
      " |      Implement self+=value.\n",
      " |  \n",
      " |  __imul__(self, value, /)\n",
      " |      Implement self*=value.\n",
      " |  \n",
      " |  __init__(self, /, *args, **kwargs)\n",
      " |      Initialize self.  See help(type(self)) for accurate signature.\n",
      " |  \n",
      " |  __iter__(self, /)\n",
      " |      Implement iter(self).\n",
      " |  \n",
      " |  __le__(self, value, /)\n",
      " |      Return self<=value.\n",
      " |  \n",
      " |  __len__(self, /)\n",
      " |      Return len(self).\n",
      " |  \n",
      " |  __lt__(self, value, /)\n",
      " |      Return self<value.\n",
      " |  \n",
      " |  __mul__(self, value, /)\n",
      " |      Return self*value.n\n",
      " |  \n",
      " |  __ne__(self, value, /)\n",
      " |      Return self!=value.\n",
      " |  \n",
      " |  __new__(*args, **kwargs) from builtins.type\n",
      " |      Create and return a new object.  See help(type) for accurate signature.\n",
      " |  \n",
      " |  __repr__(self, /)\n",
      " |      Return repr(self).\n",
      " |  \n",
      " |  __reversed__(...)\n",
      " |      L.__reversed__() -- return a reverse iterator over the list\n",
      " |  \n",
      " |  __rmul__(self, value, /)\n",
      " |      Return self*value.\n",
      " |  \n",
      " |  __setitem__(self, key, value, /)\n",
      " |      Set self[key] to value.\n",
      " |  \n",
      " |  __sizeof__(...)\n",
      " |      L.__sizeof__() -- size of L in memory, in bytes\n",
      " |  \n",
      " |  append(...)\n",
      " |      L.append(object) -> None -- append object to end\n",
      " |  \n",
      " |  clear(...)\n",
      " |      L.clear() -> None -- remove all items from L\n",
      " |  \n",
      " |  copy(...)\n",
      " |      L.copy() -> list -- a shallow copy of L\n",
      " |  \n",
      " |  count(...)\n",
      " |      L.count(value) -> integer -- return number of occurrences of value\n",
      " |  \n",
      " |  extend(...)\n",
      " |      L.extend(iterable) -> None -- extend list by appending elements from the iterable\n",
      " |  \n",
      " |  index(...)\n",
      " |      L.index(value, [start, [stop]]) -> integer -- return first index of value.\n",
      " |      Raises ValueError if the value is not present.\n",
      " |  \n",
      " |  insert(...)\n",
      " |      L.insert(index, object) -- insert object before index\n",
      " |  \n",
      " |  pop(...)\n",
      " |      L.pop([index]) -> item -- remove and return item at index (default last).\n",
      " |      Raises IndexError if list is empty or index is out of range.\n",
      " |  \n",
      " |  remove(...)\n",
      " |      L.remove(value) -> None -- remove first occurrence of value.\n",
      " |      Raises ValueError if the value is not present.\n",
      " |  \n",
      " |  reverse(...)\n",
      " |      L.reverse() -- reverse *IN PLACE*\n",
      " |  \n",
      " |  sort(...)\n",
      " |      L.sort(key=None, reverse=False) -> None -- stable sort *IN PLACE*\n",
      " |  \n",
      " |  ----------------------------------------------------------------------\n",
      " |  Data and other attributes defined here:\n",
      " |  \n",
      " |  __hash__ = None\n",
      "\n"
     ]
    }
   ],
   "source": [
    "help(list)"
   ]
  },
  {
   "cell_type": "code",
   "execution_count": null,
   "metadata": {},
   "outputs": [],
   "source": []
  }
 ],
 "metadata": {
  "kernelspec": {
   "display_name": "Python 3",
   "language": "python",
   "name": "python3"
  },
  "language_info": {
   "codemirror_mode": {
    "name": "ipython",
    "version": 3
   },
   "file_extension": ".py",
   "mimetype": "text/x-python",
   "name": "python",
   "nbconvert_exporter": "python",
   "pygments_lexer": "ipython3",
   "version": "3.6.5"
  }
 },
 "nbformat": 4,
 "nbformat_minor": 2
}
