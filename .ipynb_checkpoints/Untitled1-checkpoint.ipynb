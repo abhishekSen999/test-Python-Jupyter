{
 "cells": [
  {
   "cell_type": "code",
   "execution_count": 1,
   "metadata": {},
   "outputs": [
    {
     "name": "stdout",
     "output_type": "stream",
     "text": [
      "a    1\n",
      "b    2\n",
      "c    3\n",
      "dtype: int64\n"
     ]
    }
   ],
   "source": [
    "import pandas as pd\n",
    "d = {'a' : 1, 'b' : 2, 'c' : 3}\n",
    "s=pd.Series(d)\n",
    "print (s)"
   ]
  },
  {
   "cell_type": "code",
   "execution_count": 2,
   "metadata": {},
   "outputs": [
    {
     "data": {
      "text/plain": [
       "a    2\n",
       "b    4\n",
       "c    6\n",
       "dtype: int64"
      ]
     },
     "execution_count": 2,
     "metadata": {},
     "output_type": "execute_result"
    }
   ],
   "source": [
    "s[::]+s[::-1]"
   ]
  },
  {
   "cell_type": "code",
   "execution_count": 3,
   "metadata": {},
   "outputs": [
    {
     "name": "stdout",
     "output_type": "stream",
     "text": [
      "[[0.74237377 0.33074209 0.52353464]\n",
      " [0.32537567 0.17970205 0.69454086]\n",
      " [0.24403138 0.92471784 0.48219085]\n",
      " [0.96687227 0.45108614 0.36829993]]\n",
      "[[0.24403138 0.92471784 0.48219085]\n",
      " [0.96687227 0.45108614 0.36829993]]\n"
     ]
    }
   ],
   "source": [
    "import numpy as np\n",
    "\n",
    "import random\n",
    "\n",
    "a=np.random.random((4,3))\n",
    "\n",
    "print(a)\n",
    "a=a[2:]\n",
    "print(a)"
   ]
  },
  {
   "cell_type": "code",
   "execution_count": 4,
   "metadata": {},
   "outputs": [
    {
     "name": "stdout",
     "output_type": "stream",
     "text": [
      "['NK' 'SV' 'PR' 'NS' 'DK' 'SP' 'RK' 'RC' 'MK' 'PKH' 'NG' 'PB' 'RG' 'MS'\n",
      " 'VB' 'SK']\n",
      "NK\n",
      "SV\n",
      "PR\n",
      "NS\n",
      "DK\n",
      "SP\n",
      "RK\n",
      "RC\n",
      "MK\n",
      "PKH\n",
      "NG\n",
      "PB\n",
      "RG\n",
      "MS\n",
      "VB\n",
      "SK\n"
     ]
    }
   ],
   "source": [
    "import pandas as pd\n",
    "import numpy as np\n",
    "\n",
    "course_data=pd.read_csv('E:/Assignments/MCS102/COURSE_DATA.csv')\n",
    "professors=np.array(course_data.professor.unique())\n",
    "print(professors)\n",
    "for i in professors :print(i)\n"
   ]
  },
  {
   "cell_type": "code",
   "execution_count": 5,
   "metadata": {},
   "outputs": [
    {
     "name": "stdout",
     "output_type": "stream",
     "text": [
      "2\n"
     ]
    }
   ],
   "source": [
    "paper_code=np.array(course_data.paper_code)\n",
    "theory_freq=np.array(course_data.theory)\n",
    "dpt_sem= np.unique([pc[0:5] for pc in paper_code])\n",
    "print(np.nonzero(dpt_sem=='MCS-1')[0][0])"
   ]
  },
  {
   "cell_type": "code",
   "execution_count": null,
   "metadata": {},
   "outputs": [],
   "source": []
  },
  {
   "cell_type": "code",
   "execution_count": 6,
   "metadata": {},
   "outputs": [
    {
     "data": {
      "text/plain": [
       "array([[1, 8],\n",
       "       [3, 4]])"
      ]
     },
     "execution_count": 6,
     "metadata": {},
     "output_type": "execute_result"
    }
   ],
   "source": [
    "np.where([[True, False], [True, True]],[[1, 2], [3, 4]], [[9, 8], [7, 6]])\n"
   ]
  },
  {
   "cell_type": "code",
   "execution_count": 7,
   "metadata": {},
   "outputs": [
    {
     "name": "stdout",
     "output_type": "stream",
     "text": [
      "('a', 1)\n",
      "('b', 2)\n",
      "('c', 3)\n",
      "('d', 4)\n",
      "('5', 5)\n"
     ]
    }
   ],
   "source": [
    "test=zip(['a','b','c','d','5'],[1,2,3,4,5])\n",
    "for i in test: print (i)"
   ]
  },
  {
   "cell_type": "code",
   "execution_count": 8,
   "metadata": {},
   "outputs": [
    {
     "name": "stdout",
     "output_type": "stream",
     "text": [
      "MCA-101\n",
      "MCA-101\n",
      "MCA-102\n",
      "MCA-102\n",
      "MCA-102\n",
      "MCA-103\n",
      "MCA-103\n",
      "MCA-103\n",
      "MCA-104\n",
      "MCA-104\n",
      "MCA-104\n",
      "MCA-105\n",
      "MCA-105\n",
      "MCA-105\n",
      "MCA-105\n",
      "MCA-105\n",
      "MCA-106\n",
      "MCA-106\n",
      "MCA-106\n",
      "MCA-106\n",
      "MCA-301\n",
      "MCA-301\n",
      "MCA-301\n",
      "MCA-302\n",
      "MCA-302\n",
      "MCA-302\n",
      "MCA-303\n",
      "MCA-303\n",
      "MCA-303\n",
      "MCA-304\n",
      "MCA-304\n",
      "MCA-304\n",
      "MCA-304\n",
      "MCA-304\n",
      "MCA-304\n",
      "MCA-304\n",
      "MCA-305\n",
      "MCA-305\n",
      "MCA-305\n",
      "MCA-305\n",
      "MCA-305\n",
      "MCA-305\n",
      "MCS-101\n",
      "MCS-101\n",
      "MCS-101\n",
      "MCS-101\n",
      "MCS-101\n",
      "MCS-101\n",
      "MCS-101\n",
      "MCS-102\n",
      "MCS-102\n",
      "MCS-102\n",
      "MCS-103\n",
      "MCS-103\n",
      "MCS-103\n",
      "MCS-103\n",
      "MCS-104\n",
      "MCS-104\n",
      "MCS-104\n",
      "MCS-105\n",
      "MCS-105\n",
      "MCS-105\n",
      "MCS-302\n",
      "MCS-302\n",
      "MCS-302\n",
      "MCS-303\n",
      "MCS-303\n",
      "MCS-303\n",
      "MCS-304\n",
      "MCS-304\n",
      "MCS-304\n",
      "MCS-311\n",
      "MCS-311\n",
      "MCS-311\n",
      "MCS-312\n",
      "MCS-312\n",
      "MCS-312\n",
      "MCS-326\n",
      "MCS-326\n",
      "MCS-326\n",
      "80\n"
     ]
    }
   ],
   "source": [
    "#theory_classes_frequency=np.array([pc*freq for (pc,freq) in zip(paper_code,theory_freq)])# this statement is multiplying string  \n",
    "theory_classes_frequency=np.array([pc for pc,freq in zip(paper_code,theory_freq) for i in range(freq)])\n",
    "\n",
    "for i in theory_classes_frequency: print(i)\n",
    "print(len(theory_classes_frequency))\n",
    " "
   ]
  },
  {
   "cell_type": "markdown",
   "metadata": {},
   "source": [
    "### partioning this list into a 2d array with indices as mentioned in the course_map dictionary\n"
   ]
  },
  {
   "cell_type": "code",
   "execution_count": 9,
   "metadata": {},
   "outputs": [],
   "source": [
    "course_map={\n",
    "                'MCA-1':0,\n",
    "                'MCA-3':1,\n",
    "                'MCS-1':2,\n",
    "                'MCS-3':3\n",
    "            }\n",
    "\n",
    "theory_class_wise_partition=[[],[],[],[]]\n",
    "for i in theory_classes_frequency :\n",
    "    theory_class_wise_partition[course_map[i[0:5]]].append(i)\n"
   ]
  },
  {
   "cell_type": "code",
   "execution_count": 10,
   "metadata": {},
   "outputs": [],
   "source": [
    "#for i in theory_classes_frequency :\n",
    "#    print(course_map[i[0:5]])"
   ]
  },
  {
   "cell_type": "code",
   "execution_count": 11,
   "metadata": {},
   "outputs": [
    {
     "name": "stdout",
     "output_type": "stream",
     "text": [
      "['MCA-101', 'MCA-101', 'MCA-102', 'MCA-102', 'MCA-102', 'MCA-103', 'MCA-103', 'MCA-103', 'MCA-104', 'MCA-104', 'MCA-104', 'MCA-105', 'MCA-105', 'MCA-105', 'MCA-105', 'MCA-105', 'MCA-106', 'MCA-106', 'MCA-106', 'MCA-106'] \n",
      "\n",
      "['MCA-301', 'MCA-301', 'MCA-301', 'MCA-302', 'MCA-302', 'MCA-302', 'MCA-303', 'MCA-303', 'MCA-303', 'MCA-304', 'MCA-304', 'MCA-304', 'MCA-304', 'MCA-304', 'MCA-304', 'MCA-304', 'MCA-305', 'MCA-305', 'MCA-305', 'MCA-305', 'MCA-305', 'MCA-305'] \n",
      "\n",
      "['MCS-101', 'MCS-101', 'MCS-101', 'MCS-101', 'MCS-101', 'MCS-101', 'MCS-101', 'MCS-102', 'MCS-102', 'MCS-102', 'MCS-103', 'MCS-103', 'MCS-103', 'MCS-103', 'MCS-104', 'MCS-104', 'MCS-104', 'MCS-105', 'MCS-105', 'MCS-105'] \n",
      "\n",
      "['MCS-302', 'MCS-302', 'MCS-302', 'MCS-303', 'MCS-303', 'MCS-303', 'MCS-304', 'MCS-304', 'MCS-304', 'MCS-311', 'MCS-311', 'MCS-311', 'MCS-312', 'MCS-312', 'MCS-312', 'MCS-326', 'MCS-326', 'MCS-326'] \n",
      "\n",
      "4\n"
     ]
    }
   ],
   "source": [
    "for i in theory_class_wise_partition:\n",
    "    print(i,\"\\n\")\n",
    "print(len(theory_class_wise_partition))"
   ]
  },
  {
   "cell_type": "code",
   "execution_count": 12,
   "metadata": {},
   "outputs": [
    {
     "name": "stdout",
     "output_type": "stream",
     "text": [
      "(4,)\n",
      "20\n",
      "22\n",
      "20\n",
      "18\n"
     ]
    }
   ],
   "source": [
    "print (np.shape(theory_class_wise_partition))\n",
    "print (len(theory_class_wise_partition[0]))\n",
    "print (len(theory_class_wise_partition[1]))\n",
    "print (len(theory_class_wise_partition[2]))\n",
    "print (len(theory_class_wise_partition[3]))"
   ]
  },
  {
   "cell_type": "markdown",
   "metadata": {},
   "source": [
    "### partitioning  the lab classes as per course_map dictionary\n"
   ]
  },
  {
   "cell_type": "code",
   "execution_count": 13,
   "metadata": {},
   "outputs": [
    {
     "name": "stdout",
     "output_type": "stream",
     "text": [
      "['MCA-101', 'MCA-101', 'MCA-101', 'MCA-102', 'MCA-102', 'MCA-103', 'MCA-103', 'MCA-104', 'MCA-104'] \n",
      "\n",
      "['MCA-301', 'MCA-301', 'MCA-302', 'MCA-302', 'MCA-303', 'MCA-303'] \n",
      "\n",
      "['MCS-102', 'MCS-102', 'MCS-103', 'MCS-104', 'MCS-104', 'MCS-105', 'MCS-105', 'MCS-105', 'MCS-105'] \n",
      "\n",
      "['MCS-302', 'MCS-302', 'MCS-303', 'MCS-303', 'MCS-304', 'MCS-311', 'MCS-326'] \n",
      "\n"
     ]
    }
   ],
   "source": [
    "\n",
    "lab_class_wise_partition=[[],[],[],[]]\n",
    "lab1_freq=np.array(course_data.lab1)\n",
    "lab2_freq=np.array(course_data.lab2)\n",
    "\n",
    "for pc,lb1_frq,lb2_frq in zip(paper_code,lab1_freq,lab2_freq):\n",
    "    k=int(lb1_frq)+int(lb2_frq)\n",
    "    \n",
    "    for frq in range(k):\n",
    "        \n",
    "        lab_class_wise_partition[course_map[pc[0:5]]].append(pc)\n",
    "\n",
    "        \n",
    "        \n",
    "for i in lab_class_wise_partition:\n",
    "    print(i,\"\\n\")"
   ]
  },
  {
   "cell_type": "code",
   "execution_count": null,
   "metadata": {},
   "outputs": [],
   "source": []
  },
  {
   "cell_type": "code",
   "execution_count": 14,
   "metadata": {},
   "outputs": [
    {
     "name": "stdout",
     "output_type": "stream",
     "text": [
      "['0-0' '0-1' '0-2' '0-3' '0-4' '0-5' '0-6' '0-7' '1-0' '1-1' '1-2' '1-3'\n",
      " '1-4' '1-5' '1-6' '1-7' '2-0' '2-1' '2-2' '2-3' '2-4' '2-5' '2-6' '2-7'\n",
      " '3-0' '3-1' '3-2' '3-3' '3-4' '3-5' '3-6' '3-7' '4-0' '4-1' '4-2' '4-3'\n",
      " '4-4' '4-5' '4-6' '4-7' '5-0' '5-1' '5-2' '5-3' '5-4' '5-5' '5-6' '5-7']\n",
      "7\n"
     ]
    }
   ],
   "source": [
    "day_slots=[\"monday\",\"tuesday\",\"wednesday\",\"thursday\",\"friday\",\"saturday\"]\n",
    "#time_slots=[\"9-10\",\"10-11\",\"11-12\",\"12-1\"]\n",
    "time_slots=[\"9-10\",\"10-11\",\"11-12\",\"12-1\",\"1-2\",\"2-3\",\"3-4\",\"4-5\"]\n",
    "#day_time_slots = [str(d)+\"-\"+str(t) for d,t in zip(range(len(day_slots)),range(len(time_slots)))]\n",
    "day_time_slots=np.empty(len(day_slots)*len(time_slots),dtype=object)\n",
    "index=0\n",
    "for ds in range(len(day_slots)):\n",
    "    for ts in range(len(time_slots)):\n",
    "        day_time_slots[index]=str(ds)+\"-\"+str(ts) \n",
    "        index+=1\n",
    "        #print(str(ds)+\"-\"+str(ts) )\n",
    "print(day_time_slots)\n",
    "print(day_time_slots[31][-1])"
   ]
  },
  {
   "cell_type": "code",
   "execution_count": 15,
   "metadata": {},
   "outputs": [
    {
     "name": "stdout",
     "output_type": "stream",
     "text": [
      "['0-7' '4-3' '5-2' '2-1' '5-0' '5-5' '4-2' '4-1' '3-7' '4-4' '5-4' '3-3'\n",
      " '0-2' '1-5' '1-6' '3-4' '1-3' '0-6' '0-1' '4-7' '0-0' '2-4' '5-6' '4-5'\n",
      " '2-2' '0-5' '2-3' '1-2' '1-1' '3-5' '0-4' '2-5' '1-0' '3-0' '3-6' '5-7'\n",
      " '2-7' '3-2' '5-1' '1-7' '4-6' '3-1' '4-0' '2-0' '0-3' '1-4' '5-3' '2-6']\n"
     ]
    }
   ],
   "source": [
    "print(np.random.permutation(day_time_slots))"
   ]
  },
  {
   "cell_type": "code",
   "execution_count": 16,
   "metadata": {},
   "outputs": [],
   "source": [
    "professor_map={\n",
    "    'MCA-101':'NK',\n",
    "    'MCA-102':'SV',\n",
    "    'MCA-103':'PR',\n",
    "    'MCA-104':'NS',\n",
    "    'MCA-105':'DK',\n",
    "    'MCA-106':'SP',\n",
    "    'MCA-301':'RK',\n",
    "    'MCA-302':'RC',\n",
    "    'MCA-303':'NS',\n",
    "    'MCA-304':'MK',\n",
    "    'MCA-305':'PKH',\n",
    "    'MCS-101':'NG',\n",
    "    'MCS-102':'PB',\n",
    "    'MCS-103':'RG',\n",
    "    'MCS-104':'RK',\n",
    "    'MCS-105':'NK',\n",
    "    'MCS-302':'RC',\n",
    "    'MCS-303':'PB',\n",
    "    'MCS-304':'MS',\n",
    "    'MCS-311':'VB',\n",
    "    'MCS-312':'NG',\n",
    "    'MCS-326':'SK'\n",
    "\n",
    "}"
   ]
  },
  {
   "cell_type": "code",
   "execution_count": null,
   "metadata": {},
   "outputs": [],
   "source": []
  },
  {
   "cell_type": "code",
   "execution_count": null,
   "metadata": {},
   "outputs": [],
   "source": []
  },
  {
   "cell_type": "code",
   "execution_count": null,
   "metadata": {},
   "outputs": [],
   "source": []
  },
  {
   "cell_type": "code",
   "execution_count": null,
   "metadata": {},
   "outputs": [],
   "source": []
  },
  {
   "cell_type": "code",
   "execution_count": 17,
   "metadata": {},
   "outputs": [],
   "source": [
    "#creating empty day_time_allotment array of same structure as theory_class_wise_partition\n",
    "#this array contains all the time and day allotments for corresponding classes in theory_class_partition array\n",
    "day_time_allotment=np.empty(np.shape(theory_class_wise_partition),dtype=object)\n",
    "\n",
    "for i in range(np.shape(day_time_allotment)[0]): \n",
    "    day_time_allotment[i]=np.empty(np.shape(theory_class_wise_partition[i]),dtype=np.int64)\n",
    "    \n",
    "  \n",
    "     \n"
   ]
  },
  {
   "cell_type": "code",
   "execution_count": 18,
   "metadata": {},
   "outputs": [
    {
     "name": "stdout",
     "output_type": "stream",
     "text": [
      "(22,)\n"
     ]
    }
   ],
   "source": [
    "print(np.shape(day_time_allotment[1]))"
   ]
  },
  {
   "cell_type": "code",
   "execution_count": 19,
   "metadata": {},
   "outputs": [
    {
     "name": "stdout",
     "output_type": "stream",
     "text": [
      "()\n"
     ]
    }
   ],
   "source": [
    "i=8\n",
    "print(np.shape(i))"
   ]
  },
  {
   "cell_type": "code",
   "execution_count": 1,
   "metadata": {},
   "outputs": [],
   "source": [
    "#course_information\n",
    "class CourseInformation(object):\n",
    "    \n",
    "    def __init__(self,absolute_address='E:/Assignments/MCS102/COURSE_DATA.csv'):\n",
    "        import pandas as pd\n",
    "        import numpy as np\n",
    "        course_data=pd.read_csv(absolute_address)\n",
    "        \n",
    "        self.professors=np.array(course_data.professor.unique())\n",
    "        \n",
    "        paper_code=np.array(course_data.paper_code)\n",
    "        \n",
    "        theory_freq=np.array(course_data.theory)\n",
    "        dpt_sem= np.unique([pc[0:5] for pc in paper_code])\n",
    "        \n",
    "        theory_classes_frequency=np.array([pc for pc,freq in zip(paper_code,theory_freq) for i in range(freq)])\n",
    "        course_map={\n",
    "                'MCA-1':0,\n",
    "                'MCA-3':1,\n",
    "                'MCS-1':2,\n",
    "                'MCS-3':3\n",
    "            }\n",
    "\n",
    "        self.theory_class_wise_partition=[[],[],[],[]]\n",
    "        for i in theory_classes_frequency :\n",
    "            self.theory_class_wise_partition[course_map[i[0:5]]].append(i)\n",
    "        \n",
    "        self.lab_class_wise_partition=[[],[],[],[]]\n",
    "        lab1_freq=np.array(course_data.lab1)\n",
    "        lab2_freq=np.array(course_data.lab2)\n",
    "\n",
    "        for pc,lb1_frq,lb2_frq in zip(paper_code,lab1_freq,lab2_freq):\n",
    "            k=int(lb1_frq)+int(lb2_frq)\n",
    "            for frq in range(k):\n",
    "                self.lab_class_wise_partition[course_map[pc[0:5]]].append(pc)\n",
    "                \n",
    "                \n",
    "                \n",
    "        \n",
    "        day_slots=[\"monday\",\"tuesday\",\"wednesday\",\"thursday\",\"friday\",\"saturday\"]\n",
    "        #time_slots=[\"9-10\",\"10-11\",\"11-12\",\"12-1\"]\n",
    "        time_slots=[\"9-10\",\"10-11\",\"11-12\",\"12-1\",\"1-2\",\"2-3\",\"3-4\",\"4-5\"]\n",
    "        #day_time_slots = [str(d)+\"-\"+str(t) for d,t in zip(range(len(day_slots)),range(len(time_slots)))]\n",
    "        self.day_time_slots=np.empty(len(day_slots)*len(time_slots),dtype=object)\n",
    "        index=0\n",
    "        for ds in range(len(day_slots)):\n",
    "            for ts in range(len(time_slots)):\n",
    "                self.day_time_slots[index]=str(ds)+\"-\"+str(ts) \n",
    "                index+=1\n",
    "\n",
    "\n"
   ]
  },
  {
   "cell_type": "code",
   "execution_count": 2,
   "metadata": {},
   "outputs": [],
   "source": [
    "class DNA(object):\n",
    "    \n",
    "    #self.day_time_allotment\n",
    "    \n",
    "    def __init__(self,theory_class_wise_partition,day_time_slots,professors,lab_class_wise_partition):\n",
    "        import numpy as np\n",
    "        import random\n",
    "        \"\"\"\n",
    "        list of instance variables:\n",
    "            theory_day_time_allotment: stores alloted day and time for a particular theory class in theory_class_wise_partition\n",
    "            lab_day_time_allotment: stores alloted day and time for a particular lab class in lab_class_wise_partition\n",
    "        \"\"\"\n",
    "        self.collisions=0\n",
    "        self.theory_class_wise_partition=theory_class_wise_partition\n",
    "        self.lab_class_wise_partition=lab_class_wise_partition\n",
    "        self.day_time_slots=np.copy(day_time_slots)\n",
    "        self.professors=np.copy(professors)\n",
    "        self.fitness=0.0\n",
    "        \n",
    "        self.theory_day_time_allotment=np.empty(np.shape(theory_class_wise_partition),dtype=object)\n",
    "        for i in range(np.shape(self.theory_day_time_allotment)[0]): \n",
    "            self.theory_day_time_allotment[i]=np.empty(np.shape(theory_class_wise_partition[i]),dtype=object)\n",
    "        \n",
    "        self.lab_day_time_allotment=np.empty(np.shape(lab_class_wise_partition),dtype=object)\n",
    "        for i in range(np.shape(self.lab_day_time_allotment)[0]):\n",
    "            self.lab_day_time_allotment[i]=np.empty(np.shape(lab_class_wise_partition[i]),dtype=object)\n",
    "        \n",
    "        \n",
    "        #last_time_slot=7\n",
    "        #filling up the theory_day_time_allotment  array with random permuted slots \n",
    "        for i in range(len(self.theory_day_time_allotment)):\n",
    "            \n",
    "            perm_slots=np.copy(day_time_slots)\n",
    "            #alloting labs and deleting those slots from perm_Slots\n",
    "            for j in range(len(self.lab_day_time_allotment[i])):\n",
    "                    \n",
    "                    index=0\n",
    "                    while True:\n",
    "                        index=random.randint(0,len(perm_slots)-2)\n",
    "                        \n",
    "                         #checking if two concecutive slots are on the same day that is it is not the last available slot of the day\n",
    "                        if  int(perm_slots[index][0])==int(perm_slots[index+1][0]):\n",
    "                            break\n",
    "                    #alloting the selected slot\n",
    "                    lab_class1of2=perm_slots[index]\n",
    "                    lab_class2of2=perm_slots[index+1]\n",
    "                    self.lab_day_time_allotment[i][j]=str(lab_class1of2+\":\"+lab_class2of2)\n",
    "                   # deleting the alloted slots from perm_slots being dont to avoid collisions on student's end\n",
    "                    perm_slots=np.delete(perm_slots,[index,index+1])\n",
    "            \n",
    "            #alloting theory classes from the remaining slots\n",
    "            perm_slots=np.random.permutation(perm_slots)\n",
    "            index_perm=0\n",
    "            for j in range(len(self.theory_day_time_allotment[i])):\n",
    "                self.theory_day_time_allotment[i][j]=perm_slots[index_perm]\n",
    "                index_perm+=1\n",
    "        \n",
    "        #for i in self.lab_day_time_allotment:\n",
    "         #   print (i)\n",
    "    def calculate_fitness(self):\n",
    "        import numpy as np\n",
    "        import random\n",
    "        course_professor_map={\n",
    "            'MCA-101':'NK',\n",
    "            'MCA-102':'SV',\n",
    "            'MCA-103':'PR',\n",
    "            'MCA-104':'NS',\n",
    "            'MCA-105':'DK',\n",
    "            'MCA-106':'SP',\n",
    "            'MCA-301':'RK',\n",
    "            'MCA-302':'RC',\n",
    "            'MCA-303':'NS',\n",
    "            'MCA-304':'MK',\n",
    "            'MCA-305':'PKH',\n",
    "            'MCS-101':'NG',\n",
    "            'MCS-102':'PB',\n",
    "            'MCS-103':'RG',\n",
    "            'MCS-104':'RK',\n",
    "            'MCS-105':'NK',\n",
    "            'MCS-302':'RC',\n",
    "            'MCS-303':'PB',\n",
    "            'MCS-304':'MS',\n",
    "            'MCS-311':'VB',\n",
    "            'MCS-312':'NG',\n",
    "            'MCS-326':'SK'\n",
    "\n",
    "            }\n",
    "        #making map dictionary for swift hashing\n",
    "        professor_index_map={}\n",
    "        for i,j in zip(self.professors,range(len(self.professors))):\n",
    "            professor_index_map[i]=j\n",
    "        \n",
    "        \n",
    "        \n",
    "        days=6\n",
    "        \n",
    "        #professor_time_table of structure(professor_index,day,time)\n",
    "        professor_timetable=np.zeros((len(self.professors),days,int(len(self.day_time_slots)/days)))\n",
    "        \n",
    "        #filling uup professor_time_table with theory classes, stores the number of classes in each slot\n",
    "        for i in range(len(self.theory_day_time_allotment)):\n",
    "            for j in range(len(self.theory_day_time_allotment[i])):\n",
    "                #calculating indexes for professor_timetable\n",
    "                professor_index=professor_index_map[course_professor_map[self.theory_class_wise_partition[i][j]]]\n",
    "                day_index=int(self.theory_day_time_allotment[i][j][0])\n",
    "                time_index=int(self.theory_day_time_allotment[i][j][2])\n",
    "                professor_timetable[professor_index][day_index][time_index]+=1\n",
    "        \n",
    "        \n",
    "        #filling up professor_time_table with lab classes, stores the number of classes in each slot\n",
    "        for i in range(len(self.lab_day_time_allotment)):\n",
    "            for j in range(len(self.lab_day_time_allotment[i])):\n",
    "                #calculating indexes for professor_timetable\n",
    "                professor_index=professor_index_map[course_professor_map[self.lab_class_wise_partition[i][j]]]\n",
    "                day_index=int(self.lab_day_time_allotment[i][j][0])\n",
    "                #two time indexes as each class takes 2 consecutive slots\n",
    "                time_index1=int(self.lab_day_time_allotment[i][j][2])\n",
    "                time_index2=int(self.lab_day_time_allotment[i][j][6])\n",
    "                professor_timetable[professor_index][day_index][time_index1]+=1\n",
    "                professor_timetable[professor_index][day_index][time_index2]+=1\n",
    "                \n",
    "                \n",
    "        \n",
    "        \n",
    "        \n",
    "        course_map={\n",
    "                'MCA-1':0,\n",
    "                'MCA-3':1,\n",
    "                'MCS-1':2,\n",
    "                'MCS-3':3\n",
    "            }\n",
    "        \n",
    "        collisions=0\n",
    "        for i in range(len(professor_timetable)):\n",
    "            for j in range(len(professor_timetable[i])):\n",
    "                for k in range(len(professor_timetable[i][j])):\n",
    "                    if professor_timetable[i][j][k]>1:\n",
    "                        collisions+=professor_timetable[i][j][k]-1\n",
    "        \n",
    "        self.fitness=1/(collisions+1)\n",
    "                  \n",
    "        \n",
    "        \n",
    "        \"\"\"\n",
    "        #preparing student time table\n",
    "        student_timetable=np.zeros((len(theory_day_time_allotment),days,int(len(self.day_time_slots)/days)),dtype=\"S15\")\n",
    "        \n",
    "        \n",
    "        for i in range(len(self.theory_day_time_allotment)):\n",
    "            for j in range(len(self.theory_day_time_allotment[i])):\n",
    "                #calculating indexes for student_timetable\n",
    "                dash=self.day_time_allotment[i][j].find('-')\n",
    "                student_index=course_map[str(theory_class_wise_partition[i][j][0:5])]\n",
    "                day_index=int(self.day_time_allotment[i][j][0:dash])\n",
    "                time_index=int(self.day_time_allotment[i][j][dash+1:])\n",
    "                \n",
    "                student_timetable[student_index][day_index][time_index]=theory_class_wise_partition[i][j]+course_professor_map[theory_class_wise_partition[i][j]]\n",
    "        \n",
    "      \n",
    "        for i in student_timetable:\n",
    "            print (i,\"\\n\")\n",
    "           \n",
    "        \n",
    "        print(collisions)\n",
    "        \n",
    "        for i in professor_timetable:\n",
    "            print (i,\"\\n\")\n",
    "        \"\"\"\n",
    "    \n",
    "    \n",
    "        return self.fitness  \n",
    "    \n",
    "    \n",
    "    #crossover function\n",
    "    \"\"\"\n",
    "    \n",
    "    \"\"\"\n",
    "    def crossover(self,dna1,crossover_rate):\n",
    "        import numpy as np\n",
    "        import random\n",
    "        \n",
    "        offspring1=DNA(self.theory_class_wise_partition,self.day_time_slots,self.professors,self.lab_class_wise_partition)\n",
    "        offspring2=DNA(self.theory_class_wise_partition,self.day_time_slots,self.professors,self.lab_class_wise_partition)\n",
    "        probability=crossover_rate\n",
    "        \n",
    "        #crossover of theory_day_time_allotment\n",
    "        for i in range(len(self.theory_day_time_allotment)):\n",
    "            if random.random()>crossover_rate: continue\n",
    "            crossover_point=random.randint(0, len(self.theory_day_time_allotment[i])-1) \n",
    "            for j in range(0,crossover_point):\n",
    "                offspring1.theory_day_time_allotment[i][j]=self.theory_day_time_allotment[i][j]\n",
    "                offspring2.theory_day_time_allotment[i][j]=dna1.theory_day_time_allotment[i][j]\n",
    "                \n",
    "            for j in range(crossover_point,len(self.theory_day_time_allotment[i])):\n",
    "                offspring1.theory_day_time_allotment[i][j]=dna1.theory_day_time_allotment[i][j]\n",
    "                offspring2.theory_day_time_allotment[i][j]=self.theory_day_time_allotment[i][j]\n",
    "        \n",
    "        #crossover of lab_day_time_allotment\n",
    "        for i in range(len(self.lab_day_time_allotment)):\n",
    "            if random.random()>crossover_rate: continue\n",
    "            crossover_point=random.randint(0, len(self.lab_day_time_allotment[i])-1) \n",
    "            for j in range(0,crossover_point):\n",
    "                offspring1.lab_day_time_allotment[i][j]=self.lab_day_time_allotment[i][j]\n",
    "                offspring2.lab_day_time_allotment[i][j]=dna1.lab_day_time_allotment[i][j]\n",
    "                \n",
    "            for j in range(crossover_point,len(self.lab_day_time_allotment[i])):\n",
    "                offspring1.lab_day_time_allotment[i][j]=dna1.lab_day_time_allotment[i][j]\n",
    "                offspring2.lab_day_time_allotment[i][j]=self.lab_day_time_allotment[i][j]\n",
    "\n",
    "                \n",
    "        fitness_offspring1=offspring1.calculate_fitness()\n",
    "        fitness_offspring2=offspring2.calculate_fitness()\n",
    "        \n",
    "        print(fitness_offspring1,fitness_offspring2)\n",
    "        bestOffspring=offspring1 if fitness_offspring1 > fitness_offspring2 else offspring2\n",
    "       \n",
    "        return bestOffspring\n",
    "    \n",
    "    def mutation(self,mutation_rate):\n",
    "        import numpy as np\n",
    "        import random\n",
    "        #could have been lab_day_time allotment as well\n",
    "        for i in range(len(self.theory_day_time_allotment)):\n",
    "            if(random.random()<mutation_rate):\n",
    "                \n",
    "                \n",
    "                #mutating theory_day_time_allotment\n",
    "                perm_slots=np.copy(self.day_time_slots)\n",
    "                #finding  the slots which are not already alloted to that class\n",
    "                perm_slots=np.setdiff1d(perm_slots,self.theory_day_time_allotment[i])\n",
    "                \n",
    "                #separating the pairs of lab classes into one continuous array [\"0-5:0-6\",\"3-4:3-5\"] ->[\"0-5\",\"0-6\",\"3-4\",\"3-5\"]\n",
    "                separated_lab_day_time_allotment=np.empty(len(self.lab_day_time_allotment[i])*2,dtype=object)\n",
    "                index_sep=0\n",
    "                for cl in self.lab_day_time_allotment[i]:\n",
    "                    separated_lab_day_time_allotment[index_sep]=cl[0:3]\n",
    "                    index_sep+=1\n",
    "                    separated_lab_day_time_allotment[index_sep]=cl[4:]\n",
    "                    index_sep+=1\n",
    "                \n",
    "                perm_slots=np.setdiff1d(perm_slots,separated_lab_day_time_allotment[i])\n",
    "                               \n",
    "                mutation_index=random.randint(0,len(self.theory_day_time_allotment[i])-1)\n",
    "                mutation_value_index=random.randint(0,len(perm_slots)-1)\n",
    "                self.theory_day_time_allotment[i][mutation_index]=perm_slots[mutation_value_index]\n",
    "                \n",
    "                #mutating lab_day_time_allotment\n",
    "                perm_slots=np.copy(self.day_time_slots)\n",
    "                #finding  the slots which are not already alloted to that class\n",
    "                perm_slots=np.setdiff1d(perm_slots,self.theory_day_time_allotment[i])\n",
    "                perm_slots=np.setdiff1d(perm_slots,separated_lab_day_time_allotment[i])\n",
    "                               \n",
    "                mutation_index=random.randint(0,len(self.lab_day_time_allotment[i])-1)\n",
    "               \n",
    "                mutation_value_index=0\n",
    "                count=0\n",
    "                while True:\n",
    "                    count+=1\n",
    "                    mutation_value_index=random.randint(0,len(perm_slots)-2)\n",
    "                    if count>1000:return\n",
    "                    #checking if two concecutive slots are on the same day and  slots are consecutive \n",
    "                    if  int(perm_slots[mutation_value_index][0])==int(perm_slots[mutation_value_index+1][0]) and int(perm_slots[mutation_value_index][2])+1==int(perm_slots[mutation_value_index+1][2]):\n",
    "                        break\n",
    "                #alloting the selected slot\n",
    "                print(\"mutation_value_index\",mutation_value_index)\n",
    "                lab_class1of2=perm_slots[mutation_value_index]\n",
    "                lab_class2of2=perm_slots[mutation_value_index+1]\n",
    "                self.lab_day_time_allotment[i][mutation_index]=str(lab_class1of2+\":\"+lab_class2of2)\n",
    "            \n",
    "            \n",
    "            \n",
    "                \n",
    "                \n",
    "                \n",
    "                \n",
    "                \n",
    "                \n",
    "        "
   ]
  },
  {
   "cell_type": "code",
   "execution_count": null,
   "metadata": {},
   "outputs": [],
   "source": []
  },
  {
   "cell_type": "code",
   "execution_count": null,
   "metadata": {},
   "outputs": [],
   "source": []
  },
  {
   "cell_type": "code",
   "execution_count": 3,
   "metadata": {},
   "outputs": [
    {
     "name": "stdout",
     "output_type": "stream",
     "text": [
      "0.125 0.14285714285714285\n",
      "0.07142857142857142 0.16666666666666666\n",
      "0.16666666666666666\n",
      "mutation_value_index 4\n",
      "mutation_value_index 27\n",
      "0.125\n"
     ]
    }
   ],
   "source": [
    "#calling dna \n",
    "crs_info=CourseInformation()\n",
    "dna1=DNA(crs_info.theory_class_wise_partition,crs_info.day_time_slots,crs_info.professors,crs_info.lab_class_wise_partition)\n",
    "dna2=DNA(crs_info.theory_class_wise_partition,crs_info.day_time_slots,crs_info.professors,crs_info.lab_class_wise_partition)\n",
    "\n",
    "\n",
    "#for i in dna1.day_time_allotment:\n",
    "#    print(i)\n",
    "    \n",
    "print(dna1.calculate_fitness(),dna2.calculate_fitness())\n",
    "dna3=dna1.crossover(dna2,0.9)\n",
    "print(dna3.calculate_fitness())\n",
    "dna3.mutation(0.3)\n",
    "print(dna3.calculate_fitness())\n",
    "#print(professors)\n",
    "\n",
    "\n"
   ]
  },
  {
   "cell_type": "code",
   "execution_count": 4,
   "metadata": {},
   "outputs": [
    {
     "name": "stdout",
     "output_type": "stream",
     "text": [
      "0.14285714285714285\n",
      "mutation_value_index 17\n",
      "0.14285714285714285\n"
     ]
    }
   ],
   "source": [
    "crs_info=CourseInformation()\n",
    "dna2=DNA(crs_info.theory_class_wise_partition,crs_info.day_time_slots,crs_info.professors,crs_info.lab_class_wise_partition)\n",
    "print(dna2.calculate_fitness())\n",
    "dna2.mutation(0.3)\n",
    "print(dna2.calculate_fitness())"
   ]
  },
  {
   "cell_type": "code",
   "execution_count": 7,
   "metadata": {},
   "outputs": [
    {
     "name": "stdout",
     "output_type": "stream",
     "text": [
      "mutation_value_index 0\n",
      "0.25\n"
     ]
    }
   ],
   "source": [
    "dna2.mutation(0.3)\n",
    "print(dna2.calculate_fitness())"
   ]
  },
  {
   "cell_type": "code",
   "execution_count": null,
   "metadata": {},
   "outputs": [],
   "source": []
  },
  {
   "cell_type": "code",
   "execution_count": null,
   "metadata": {},
   "outputs": [],
   "source": []
  },
  {
   "cell_type": "code",
   "execution_count": null,
   "metadata": {},
   "outputs": [],
   "source": []
  },
  {
   "cell_type": "code",
   "execution_count": null,
   "metadata": {},
   "outputs": [],
   "source": []
  },
  {
   "cell_type": "code",
   "execution_count": null,
   "metadata": {},
   "outputs": [],
   "source": []
  },
  {
   "cell_type": "code",
   "execution_count": null,
   "metadata": {},
   "outputs": [],
   "source": []
  },
  {
   "cell_type": "code",
   "execution_count": null,
   "metadata": {},
   "outputs": [],
   "source": []
  },
  {
   "cell_type": "markdown",
   "metadata": {},
   "source": [
    "## making 2d array out of 1d array\n",
    "### understanding reshape"
   ]
  },
  {
   "cell_type": "code",
   "execution_count": null,
   "metadata": {},
   "outputs": [],
   "source": [
    "np_ar=np.array([[0,1,2,3],[4,5,6,7]])\n",
    "np_ar=np_ar.reshape((4,2))\n",
    "print(np.shape(np_ar))\n",
    "print(np_ar)"
   ]
  },
  {
   "cell_type": "code",
   "execution_count": null,
   "metadata": {},
   "outputs": [],
   "source": []
  },
  {
   "cell_type": "code",
   "execution_count": null,
   "metadata": {},
   "outputs": [],
   "source": []
  },
  {
   "cell_type": "code",
   "execution_count": null,
   "metadata": {},
   "outputs": [],
   "source": []
  },
  {
   "cell_type": "code",
   "execution_count": null,
   "metadata": {},
   "outputs": [],
   "source": []
  },
  {
   "cell_type": "code",
   "execution_count": null,
   "metadata": {},
   "outputs": [],
   "source": []
  },
  {
   "cell_type": "code",
   "execution_count": null,
   "metadata": {},
   "outputs": [],
   "source": []
  },
  {
   "cell_type": "code",
   "execution_count": null,
   "metadata": {},
   "outputs": [],
   "source": [
    "#repeat elements of an array a specified number of times\n",
    "x = [2, 3, 4]\n",
    "y = [1, 2, 3]\n",
    "[item for item, count in zip(x, y) for i in range(count)]"
   ]
  },
  {
   "cell_type": "code",
   "execution_count": null,
   "metadata": {},
   "outputs": [],
   "source": [
    "[item for item,count in zip(x,y) for i in range(count) ]"
   ]
  },
  {
   "cell_type": "code",
   "execution_count": null,
   "metadata": {},
   "outputs": [],
   "source": [
    "x=[0,1,2,3]\n",
    "x.append(4)\n",
    "print(x)"
   ]
  },
  {
   "cell_type": "code",
   "execution_count": null,
   "metadata": {},
   "outputs": [],
   "source": []
  },
  {
   "cell_type": "code",
   "execution_count": null,
   "metadata": {},
   "outputs": [],
   "source": [
    "#trying dictionary \n",
    "l=[\"a\",\"b\",\"c\",\"d\"]\n",
    "d={}\n",
    "for i,j in zip(l,range(len(l))):\n",
    "    d[i]=j"
   ]
  },
  {
   "cell_type": "code",
   "execution_count": null,
   "metadata": {},
   "outputs": [],
   "source": [
    "print(d)"
   ]
  },
  {
   "cell_type": "code",
   "execution_count": 54,
   "metadata": {},
   "outputs": [
    {
     "name": "stdout",
     "output_type": "stream",
     "text": [
      "['5' '6' '7' '8' '9' 'c']\n"
     ]
    }
   ],
   "source": [
    "ar=np.array(['a','b','c',4,5,6,7,8,9])\n",
    "ar=np.setdiff1d(ar,['a','b',4])\n",
    "print(ar)"
   ]
  },
  {
   "cell_type": "code",
   "execution_count": null,
   "metadata": {},
   "outputs": [],
   "source": [
    "print(np.array(range(4,4)))"
   ]
  },
  {
   "cell_type": "code",
   "execution_count": 31,
   "metadata": {},
   "outputs": [
    {
     "name": "stdout",
     "output_type": "stream",
     "text": [
      "01\n"
     ]
    }
   ],
   "source": [
    "s=\"01234\"\n",
    "print(s[0:2])"
   ]
  },
  {
   "cell_type": "code",
   "execution_count": null,
   "metadata": {},
   "outputs": [],
   "source": []
  }
 ],
 "metadata": {
  "kernelspec": {
   "display_name": "Python 3",
   "language": "python",
   "name": "python3"
  },
  "language_info": {
   "codemirror_mode": {
    "name": "ipython",
    "version": 3
   },
   "file_extension": ".py",
   "mimetype": "text/x-python",
   "name": "python",
   "nbconvert_exporter": "python",
   "pygments_lexer": "ipython3",
   "version": "3.6.5"
  }
 },
 "nbformat": 4,
 "nbformat_minor": 2
}
