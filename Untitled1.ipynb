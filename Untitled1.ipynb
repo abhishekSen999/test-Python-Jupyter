{
 "cells": [
  {
   "cell_type": "code",
   "execution_count": 39,
   "metadata": {},
   "outputs": [
    {
     "name": "stdout",
     "output_type": "stream",
     "text": [
      "a    1\n",
      "b    2\n",
      "c    3\n",
      "dtype: int64\n"
     ]
    }
   ],
   "source": [
    "import pandas as pd\n",
    "d = {'a' : 1, 'b' : 2, 'c' : 3}\n",
    "s=pd.Series(d)\n",
    "print (s)"
   ]
  },
  {
   "cell_type": "code",
   "execution_count": 40,
   "metadata": {},
   "outputs": [
    {
     "data": {
      "text/plain": [
       "a    2\n",
       "b    4\n",
       "c    6\n",
       "dtype: int64"
      ]
     },
     "execution_count": 40,
     "metadata": {},
     "output_type": "execute_result"
    }
   ],
   "source": [
    "s[::]+s[::-1]"
   ]
  },
  {
   "cell_type": "code",
   "execution_count": 41,
   "metadata": {},
   "outputs": [
    {
     "name": "stdout",
     "output_type": "stream",
     "text": [
      "[[0.95786389 0.05270451 0.82000059]\n",
      " [0.7481309  0.84577126 0.81151549]\n",
      " [0.21567902 0.64875787 0.9529036 ]\n",
      " [0.6828342  0.68189036 0.23966706]]\n",
      "[[0.21567902 0.64875787 0.9529036 ]\n",
      " [0.6828342  0.68189036 0.23966706]]\n"
     ]
    }
   ],
   "source": [
    "import numpy as np\n",
    "\n",
    "import random\n",
    "\n",
    "a=np.random.random((4,3))\n",
    "\n",
    "print(a)\n",
    "a=a[2:]\n",
    "print(a)"
   ]
  },
  {
   "cell_type": "code",
   "execution_count": 12,
   "metadata": {},
   "outputs": [
    {
     "name": "stdout",
     "output_type": "stream",
     "text": [
      "['NK' 'SV' 'PR' 'NS' 'DK' 'SP' 'RK' 'RC' 'MK' 'PKH' 'NG' 'PB' 'RG' 'MS'\n",
      " 'VB' 'SK']\n",
      "NK\n",
      "SV\n",
      "PR\n",
      "NS\n",
      "DK\n",
      "SP\n",
      "RK\n",
      "RC\n",
      "MK\n",
      "PKH\n",
      "NG\n",
      "PB\n",
      "RG\n",
      "MS\n",
      "VB\n",
      "SK\n"
     ]
    }
   ],
   "source": [
    "import pandas as pd\n",
    "import numpy as np\n",
    "\n",
    "course_data=pd.read_csv('E:/Assignments/MCS102/COURSE_DATA.csv')\n",
    "professors=np.array(course_data.professor.unique())\n",
    "print(professors)\n",
    "for i in professors :print(i)\n"
   ]
  },
  {
   "cell_type": "code",
   "execution_count": 13,
   "metadata": {},
   "outputs": [
    {
     "name": "stdout",
     "output_type": "stream",
     "text": [
      "2\n"
     ]
    }
   ],
   "source": [
    "paper_code=np.array(course_data.paper_code)\n",
    "theory_freq=np.array(course_data.theory)\n",
    "dpt_sem= np.unique([pc[0:5] for pc in paper_code])\n",
    "print(np.nonzero(dpt_sem=='MCS-1')[0][0])"
   ]
  },
  {
   "cell_type": "code",
   "execution_count": null,
   "metadata": {},
   "outputs": [],
   "source": []
  },
  {
   "cell_type": "code",
   "execution_count": 6,
   "metadata": {},
   "outputs": [
    {
     "data": {
      "text/plain": [
       "array([[1, 8],\n",
       "       [3, 4]])"
      ]
     },
     "execution_count": 6,
     "metadata": {},
     "output_type": "execute_result"
    }
   ],
   "source": [
    "np.where([[True, False], [True, True]],[[1, 2], [3, 4]], [[9, 8], [7, 6]])\n"
   ]
  },
  {
   "cell_type": "code",
   "execution_count": 7,
   "metadata": {},
   "outputs": [
    {
     "name": "stdout",
     "output_type": "stream",
     "text": [
      "('a', 1)\n",
      "('b', 2)\n",
      "('c', 3)\n",
      "('d', 4)\n",
      "('5', 5)\n"
     ]
    }
   ],
   "source": [
    "test=zip(['a','b','c','d','5'],[1,2,3,4,5])\n",
    "for i in test: print (i)"
   ]
  },
  {
   "cell_type": "code",
   "execution_count": 14,
   "metadata": {},
   "outputs": [
    {
     "name": "stdout",
     "output_type": "stream",
     "text": [
      "MCA-101\n",
      "MCA-101\n",
      "MCA-102\n",
      "MCA-102\n",
      "MCA-102\n",
      "MCA-103\n",
      "MCA-103\n",
      "MCA-103\n",
      "MCA-104\n",
      "MCA-104\n",
      "MCA-104\n",
      "MCA-105\n",
      "MCA-105\n",
      "MCA-105\n",
      "MCA-105\n",
      "MCA-105\n",
      "MCA-106\n",
      "MCA-106\n",
      "MCA-106\n",
      "MCA-106\n",
      "MCA-301\n",
      "MCA-301\n",
      "MCA-301\n",
      "MCA-302\n",
      "MCA-302\n",
      "MCA-302\n",
      "MCA-303\n",
      "MCA-303\n",
      "MCA-303\n",
      "MCA-304\n",
      "MCA-304\n",
      "MCA-304\n",
      "MCA-304\n",
      "MCA-304\n",
      "MCA-304\n",
      "MCA-304\n",
      "MCA-305\n",
      "MCA-305\n",
      "MCA-305\n",
      "MCA-305\n",
      "MCA-305\n",
      "MCA-305\n",
      "MCS-101\n",
      "MCS-101\n",
      "MCS-101\n",
      "MCS-101\n",
      "MCS-101\n",
      "MCS-101\n",
      "MCS-101\n",
      "MCS-102\n",
      "MCS-102\n",
      "MCS-102\n",
      "MCS-103\n",
      "MCS-103\n",
      "MCS-103\n",
      "MCS-103\n",
      "MCS-104\n",
      "MCS-104\n",
      "MCS-104\n",
      "MCS-105\n",
      "MCS-105\n",
      "MCS-105\n",
      "MCS-302\n",
      "MCS-302\n",
      "MCS-302\n",
      "MCS-303\n",
      "MCS-303\n",
      "MCS-303\n",
      "MCS-304\n",
      "MCS-304\n",
      "MCS-304\n",
      "MCS-311\n",
      "MCS-311\n",
      "MCS-311\n",
      "MCS-312\n",
      "MCS-312\n",
      "MCS-312\n",
      "MCS-326\n",
      "MCS-326\n",
      "MCS-326\n",
      "80\n"
     ]
    }
   ],
   "source": [
    "#theory_classes_frequency=np.array([pc*freq for (pc,freq) in zip(paper_code,theory_freq)])# this statement is multiplying string  \n",
    "theory_classes_frequency=np.array([pc for pc,freq in zip(paper_code,theory_freq) for i in range(freq)])\n",
    "\n",
    "for i in theory_classes_frequency: print(i)\n",
    "print(len(theory_classes_frequency))\n",
    " "
   ]
  },
  {
   "cell_type": "markdown",
   "metadata": {},
   "source": [
    "### partioning this list into a 2d array with indices as mentioned in the course_map dictionary\n"
   ]
  },
  {
   "cell_type": "code",
   "execution_count": 15,
   "metadata": {},
   "outputs": [],
   "source": [
    "course_map={\n",
    "                'MCA-1':0,\n",
    "                'MCA-3':1,\n",
    "                'MCS-1':2,\n",
    "                'MCS-3':3\n",
    "            }\n",
    "theory_class_wise_partition=[[],[],[],[]]\n",
    "for i in theory_classes_frequency :\n",
    "    theory_class_wise_partition[course_map[i[0:5]]].append(i)\n"
   ]
  },
  {
   "cell_type": "code",
   "execution_count": 16,
   "metadata": {},
   "outputs": [],
   "source": [
    "#for i in theory_classes_frequency :\n",
    "#    print(course_map[i[0:5]])"
   ]
  },
  {
   "cell_type": "code",
   "execution_count": 22,
   "metadata": {},
   "outputs": [
    {
     "name": "stdout",
     "output_type": "stream",
     "text": [
      "['MCA-101', 'MCA-101', 'MCA-102', 'MCA-102', 'MCA-102', 'MCA-103', 'MCA-103', 'MCA-103', 'MCA-104', 'MCA-104', 'MCA-104', 'MCA-105', 'MCA-105', 'MCA-105', 'MCA-105', 'MCA-105', 'MCA-106', 'MCA-106', 'MCA-106', 'MCA-106'] \n",
      "\n",
      "['MCA-301', 'MCA-301', 'MCA-301', 'MCA-302', 'MCA-302', 'MCA-302', 'MCA-303', 'MCA-303', 'MCA-303', 'MCA-304', 'MCA-304', 'MCA-304', 'MCA-304', 'MCA-304', 'MCA-304', 'MCA-304', 'MCA-305', 'MCA-305', 'MCA-305', 'MCA-305', 'MCA-305', 'MCA-305'] \n",
      "\n",
      "['MCS-101', 'MCS-101', 'MCS-101', 'MCS-101', 'MCS-101', 'MCS-101', 'MCS-101', 'MCS-102', 'MCS-102', 'MCS-102', 'MCS-103', 'MCS-103', 'MCS-103', 'MCS-103', 'MCS-104', 'MCS-104', 'MCS-104', 'MCS-105', 'MCS-105', 'MCS-105'] \n",
      "\n",
      "['MCS-302', 'MCS-302', 'MCS-302', 'MCS-303', 'MCS-303', 'MCS-303', 'MCS-304', 'MCS-304', 'MCS-304', 'MCS-311', 'MCS-311', 'MCS-311', 'MCS-312', 'MCS-312', 'MCS-312', 'MCS-326', 'MCS-326', 'MCS-326'] \n",
      "\n"
     ]
    }
   ],
   "source": [
    "for i in theory_class_wise_partition:\n",
    "    print(i,\"\\n\")"
   ]
  },
  {
   "cell_type": "code",
   "execution_count": 23,
   "metadata": {},
   "outputs": [
    {
     "name": "stdout",
     "output_type": "stream",
     "text": [
      "(4,)\n",
      "20\n",
      "22\n",
      "20\n",
      "18\n"
     ]
    }
   ],
   "source": [
    "print (np.shape(theory_class_wise_partition))\n",
    "print (len(theory_class_wise_partition[0]))\n",
    "print (len(theory_class_wise_partition[1]))\n",
    "print (len(theory_class_wise_partition[2]))\n",
    "print (len(theory_class_wise_partition[3]))"
   ]
  },
  {
   "cell_type": "markdown",
   "metadata": {},
   "source": [
    "### partitioning  the lab classes as per course_map dictionary\n"
   ]
  },
  {
   "cell_type": "code",
   "execution_count": 20,
   "metadata": {},
   "outputs": [
    {
     "name": "stdout",
     "output_type": "stream",
     "text": [
      "['MCA-101', 'MCA-101', 'MCA-101', 'MCA-102', 'MCA-102', 'MCA-103', 'MCA-103', 'MCA-104', 'MCA-104'] \n",
      "\n",
      "['MCA-301', 'MCA-301', 'MCA-302', 'MCA-302', 'MCA-303', 'MCA-303'] \n",
      "\n",
      "['MCS-102', 'MCS-102', 'MCS-103', 'MCS-104', 'MCS-104', 'MCS-105', 'MCS-105', 'MCS-105', 'MCS-105'] \n",
      "\n",
      "['MCS-302', 'MCS-302', 'MCS-303', 'MCS-303', 'MCS-304', 'MCS-311', 'MCS-326'] \n",
      "\n"
     ]
    }
   ],
   "source": [
    "\n",
    "lab_class_wise_partition=[[],[],[],[]]\n",
    "lab1_freq=np.array(course_data.lab1)\n",
    "lab2_freq=np.array(course_data.lab2)\n",
    "\n",
    "for pc,lb1_frq,lb2_frq in zip(paper_code,lab1_freq,lab2_freq):\n",
    "    k=int(lb1_frq)+int(lb2_frq)\n",
    "    \n",
    "    for frq in range(k):\n",
    "        \n",
    "        lab_class_wise_partition[course_map[pc[0:5]]].append(pc)\n",
    "\n",
    "        \n",
    "        \n",
    "for i in lab_class_wise_partition:\n",
    "    print(i,\"\\n\")"
   ]
  },
  {
   "cell_type": "markdown",
   "metadata": {},
   "source": []
  },
  {
   "cell_type": "code",
   "execution_count": 57,
   "metadata": {},
   "outputs": [],
   "source": [
    "#creating empty day_slots array of same structure as theory_class_wise_partition\n",
    "day_time_slots=np.empty(np.shape(theory_class_wise_partition),dtype=object)\n",
    "\n",
    "for i in range(np.shape(day_time_slots)[0]): \n",
    "    day_time_slots[i]=np.empty(np.shape(theory_class_wise_partition[i]),dtype=np.int64)\n",
    "    \n",
    "\n",
    "    \n",
    "    \n",
    "#creating empty time_slots array of same structure as theory_class_wise_partition\n",
    "time_slots=np.empty(np.shape(theory_class_wise_partition),dtype=object)\n",
    "\n",
    "for i in range(np.shape(time_slots)[0]): \n",
    "    time_slots[i]=np.empty(np.shape(theory_class_wise_partition[i]),dtype=np.int64)\n",
    "    "
   ]
  },
  {
   "cell_type": "code",
   "execution_count": 59,
   "metadata": {},
   "outputs": [
    {
     "name": "stdout",
     "output_type": "stream",
     "text": [
      "(22,)\n"
     ]
    }
   ],
   "source": [
    "print(np.shape(day_time_slots[1]))"
   ]
  },
  {
   "cell_type": "code",
   "execution_count": 53,
   "metadata": {},
   "outputs": [
    {
     "name": "stdout",
     "output_type": "stream",
     "text": [
      "()\n"
     ]
    }
   ],
   "source": [
    "i=8\n",
    "print(np.shape(i))"
   ]
  },
  {
   "cell_type": "code",
   "execution_count": null,
   "metadata": {},
   "outputs": [],
   "source": []
  },
  {
   "cell_type": "code",
   "execution_count": null,
   "metadata": {},
   "outputs": [],
   "source": []
  },
  {
   "cell_type": "code",
   "execution_count": null,
   "metadata": {},
   "outputs": [],
   "source": []
  },
  {
   "cell_type": "code",
   "execution_count": null,
   "metadata": {},
   "outputs": [],
   "source": []
  },
  {
   "cell_type": "code",
   "execution_count": 48,
   "metadata": {},
   "outputs": [
    {
     "ename": "SyntaxError",
     "evalue": "invalid syntax (<ipython-input-48-342dfc7436ac>, line 1)",
     "output_type": "error",
     "traceback": [
      "\u001b[1;36m  File \u001b[1;32m\"<ipython-input-48-342dfc7436ac>\"\u001b[1;36m, line \u001b[1;32m1\u001b[0m\n\u001b[1;33m    def class DNA:\u001b[0m\n\u001b[1;37m            ^\u001b[0m\n\u001b[1;31mSyntaxError\u001b[0m\u001b[1;31m:\u001b[0m invalid syntax\n"
     ]
    }
   ],
   "source": [
    "def class DNA:\n",
    "    "
   ]
  },
  {
   "cell_type": "code",
   "execution_count": null,
   "metadata": {},
   "outputs": [],
   "source": []
  },
  {
   "cell_type": "code",
   "execution_count": null,
   "metadata": {},
   "outputs": [],
   "source": []
  },
  {
   "cell_type": "code",
   "execution_count": null,
   "metadata": {},
   "outputs": [],
   "source": []
  },
  {
   "cell_type": "code",
   "execution_count": null,
   "metadata": {},
   "outputs": [],
   "source": []
  },
  {
   "cell_type": "code",
   "execution_count": null,
   "metadata": {},
   "outputs": [],
   "source": []
  },
  {
   "cell_type": "code",
   "execution_count": null,
   "metadata": {},
   "outputs": [],
   "source": []
  },
  {
   "cell_type": "code",
   "execution_count": null,
   "metadata": {},
   "outputs": [],
   "source": []
  },
  {
   "cell_type": "code",
   "execution_count": null,
   "metadata": {},
   "outputs": [],
   "source": []
  },
  {
   "cell_type": "code",
   "execution_count": null,
   "metadata": {},
   "outputs": [],
   "source": []
  },
  {
   "cell_type": "code",
   "execution_count": null,
   "metadata": {},
   "outputs": [],
   "source": []
  },
  {
   "cell_type": "code",
   "execution_count": null,
   "metadata": {},
   "outputs": [],
   "source": []
  },
  {
   "cell_type": "code",
   "execution_count": null,
   "metadata": {},
   "outputs": [],
   "source": []
  },
  {
   "cell_type": "markdown",
   "metadata": {},
   "source": [
    "## making 2d array out of 1d array\n",
    "### understanding reshape"
   ]
  },
  {
   "cell_type": "code",
   "execution_count": 38,
   "metadata": {},
   "outputs": [
    {
     "name": "stdout",
     "output_type": "stream",
     "text": [
      "(4, 2)\n",
      "[[0 1]\n",
      " [2 3]\n",
      " [4 5]\n",
      " [6 7]]\n"
     ]
    }
   ],
   "source": [
    "np_ar=np.array([[0,1,2,3],[4,5,6,7]])\n",
    "np_ar=np_ar.reshape((4,2))\n",
    "print(np.shape(np_ar))\n",
    "print(np_ar)"
   ]
  },
  {
   "cell_type": "code",
   "execution_count": null,
   "metadata": {},
   "outputs": [],
   "source": []
  },
  {
   "cell_type": "code",
   "execution_count": null,
   "metadata": {},
   "outputs": [],
   "source": []
  },
  {
   "cell_type": "code",
   "execution_count": null,
   "metadata": {},
   "outputs": [],
   "source": []
  },
  {
   "cell_type": "code",
   "execution_count": null,
   "metadata": {},
   "outputs": [],
   "source": []
  },
  {
   "cell_type": "code",
   "execution_count": null,
   "metadata": {},
   "outputs": [],
   "source": []
  },
  {
   "cell_type": "code",
   "execution_count": null,
   "metadata": {},
   "outputs": [],
   "source": []
  },
  {
   "cell_type": "code",
   "execution_count": null,
   "metadata": {},
   "outputs": [],
   "source": [
    "#repeat elements of an array a specified number of times\n",
    "x = [2, 3, 4]\n",
    "y = [1, 2, 3]\n",
    "[item for item, count in zip(x, y) for i in range(count)]"
   ]
  },
  {
   "cell_type": "code",
   "execution_count": null,
   "metadata": {},
   "outputs": [],
   "source": [
    "[item for item,count in zip(x,y) for i in range(count) ]"
   ]
  },
  {
   "cell_type": "code",
   "execution_count": null,
   "metadata": {},
   "outputs": [],
   "source": [
    "x=[0,1,2,3]\n",
    "x.append(4)\n",
    "print(x)"
   ]
  },
  {
   "cell_type": "code",
   "execution_count": null,
   "metadata": {},
   "outputs": [],
   "source": []
  }
 ],
 "metadata": {
  "kernelspec": {
   "display_name": "Python 3",
   "language": "python",
   "name": "python3"
  },
  "language_info": {
   "codemirror_mode": {
    "name": "ipython",
    "version": 3
   },
   "file_extension": ".py",
   "mimetype": "text/x-python",
   "name": "python",
   "nbconvert_exporter": "python",
   "pygments_lexer": "ipython3",
   "version": "3.6.5"
  }
 },
 "nbformat": 4,
 "nbformat_minor": 2
}
