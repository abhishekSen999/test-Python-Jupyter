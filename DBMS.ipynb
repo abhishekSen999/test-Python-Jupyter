{
 "cells": [
  {
   "cell_type": "markdown",
   "metadata": {},
   "source": [
    "## assignment:\n",
    "#### 1)finding closure\n",
    "#### 2)finding all the candidate keys\n",
    "#### 3)finding minimal cover of functional dependancies\n",
    "#### 4)checking normal forms"
   ]
  },
  {
   "cell_type": "code",
   "execution_count": 236,
   "metadata": {},
   "outputs": [],
   "source": [
    "#closure\n",
    "def closure(attributes,FD):\n",
    "    closure_set=\"\"\n",
    "    l=len(FD)\n",
    "       \n",
    "    #used_fd=[]\n",
    "    \n",
    "    closure_set+=attributes\n",
    "    \n",
    "    len_bfr,len_after=0,0\n",
    "    i=0\n",
    "    \n",
    "    while(True):\n",
    "        len_bfr=len(closure_set)\n",
    "        #going over the Functional Dependancies multiple number of times till a complete execution does not add anything new to the set\n",
    "        for i in range(l):\n",
    "\n",
    "            satisfy=1\n",
    "            #going through all the lhs components of the FD\n",
    "            for j in FD[i][0]:\n",
    "                if closure_set.find(j)<0:\n",
    "                    satisfy=0\n",
    "            if satisfy==1:\n",
    "                closure_set+=FD[i][1]\n",
    "\n",
    "            #removing redundant elements by breaking into a set and rejoining\n",
    "            closure_set=\"\".join(set(closure_set))\n",
    "\n",
    "            \n",
    "            \n",
    "        len_after=len(closure_set)\n",
    "        if(len_bfr== len_after): break\n",
    "        \n",
    "    return closure_set\n",
    "        \n",
    "        \n",
    "        \n",
    "    "
   ]
  },
  {
   "cell_type": "code",
   "execution_count": 237,
   "metadata": {},
   "outputs": [
    {
     "name": "stdout",
     "output_type": "stream",
     "text": [
      "GHCFE\n"
     ]
    }
   ],
   "source": [
    "FD=[[\"A\",\"BC\"],[\"AB\",\"DE\"],[\"E\",\"FG\"],[\"CG\",\"H\"]]\n",
    "attribute=\"EC\"\n",
    "setOfAttributes=\"ABCDEFGH\"\n",
    "\n",
    "print(closure(attribute,FD))"
   ]
  },
  {
   "cell_type": "code",
   "execution_count": 238,
   "metadata": {},
   "outputs": [],
   "source": [
    "import itertools\n",
    "def candidate_key(FD,set_of_attributes):\n",
    "    attributes_not_present_in_RHS = set_of_attributes\n",
    "    \n",
    "    for i in FD:\n",
    "        attributes_not_present_in_RHS=\"\".join(set(attributes_not_present_in_RHS)-set(i[1]))\n",
    "    \n",
    "    candidate_keys = []\n",
    "    \n",
    "    \n",
    "    attributes_in_RHS=\"\".join(set(set_of_attributes)-set(attributes_not_present_in_RHS))\n",
    "    key=attributes_not_present_in_RHS\n",
    "    \n",
    "    if set(closure(key,FD))==set(set_of_attributes):\n",
    "        candidate_keys.append(key)\n",
    "        return candidate_keys #as no other candidate key is present\n",
    "    \n",
    "    for i in range(len(set_of_attributes)):\n",
    "        #combi=list(itertools.combinations(attributes_in_RHS,i))\n",
    "        combinations=[\"\".join(i) for i in list(itertools.combinations(attributes_in_RHS,i))]\n",
    "        \n",
    "        for j in combinations:\n",
    "            key=attributes_not_present_in_RHS+j\n",
    "            \n",
    "            #removing redundant elements\n",
    "            key=\"\".join(set(key))\n",
    "            #checking if key is super key\n",
    "            if set(closure(key,FD))==set(set_of_attributes):\n",
    "                flag_candidate_key=1\n",
    "                #checking if the candidate keys already found is a subset of the present key\n",
    "                for ky in candidate_keys:\n",
    "                    #if \"\".join(set(ky)-set(key))==\"\":\n",
    "                    if set(ky).issubset(set(key)) :\n",
    "                        flag_candidate_key=0\n",
    "                \n",
    "                if(flag_candidate_key==1):\n",
    "                    candidate_keys.append(key)\n",
    "                    \n",
    "    return candidate_keys"
   ]
  },
  {
   "cell_type": "code",
   "execution_count": 239,
   "metadata": {},
   "outputs": [
    {
     "name": "stdout",
     "output_type": "stream",
     "text": [
      "['A', 'E', 'CB', 'CD']\n"
     ]
    }
   ],
   "source": [
    "#FD=[[\"AB\",\"BC\"],[\"AB\",\"DE\"],[\"E\",\"FG\"],[\"CG\",\"H\"]]\n",
    "#FD=[[\"AB\",\"C\"],[\"C\",\"A\"]]\n",
    "FD=[[\"A\",\"BC\"],[\"CD\",\"E\"],[\"B\",\"D\"],[\"E\",\"A\"]]\n",
    "attribute=\"E\"\n",
    "setOfAttributes=\"ABCDE\"\n",
    "#setOfAttributes=\"ABC\"\n",
    "print(candidate_key(FD,setOfAttributes))"
   ]
  },
  {
   "cell_type": "code",
   "execution_count": 240,
   "metadata": {},
   "outputs": [],
   "source": [
    "def equivalent_functional_dependencies(FD_1,FD_2):\n",
    "    FD1_C_FD2=1\n",
    "    for i in range(len(FD_1)):\n",
    "        closure_set=closure(FD_1[i][0],FD_2)\n",
    "        if not set(FD_1[i][1]).issubset(set(closure_set)):\n",
    "            FD1_C_FD2=0\n",
    "            break\n",
    "    \n",
    "    FD2_C_FD1=1\n",
    "    for i in range(len(FD_2)):\n",
    "        closure_set=closure(FD_2[i][0],FD_1)\n",
    "        if not set(FD_2[i][1]).issubset(set(closure_set)):\n",
    "            FD2_C_FD1=0\n",
    "            break\n",
    "            \n",
    "    if FD2_C_FD1==1 and FD1_C_FD2==1:\n",
    "        return True\n",
    "    else :\n",
    "        return False\n",
    "    \n",
    "    "
   ]
  },
  {
   "cell_type": "code",
   "execution_count": 241,
   "metadata": {},
   "outputs": [
    {
     "ename": "TypeError",
     "evalue": "equivalent_functional_dependencies() missing 2 required positional arguments: 'FD_1' and 'FD_2'",
     "output_type": "error",
     "traceback": [
      "\u001b[1;31m---------------------------------------------------------------------------\u001b[0m",
      "\u001b[1;31mTypeError\u001b[0m                                 Traceback (most recent call last)",
      "\u001b[1;32m<ipython-input-241-668c5fb5df42>\u001b[0m in \u001b[0;36m<module>\u001b[1;34m()\u001b[0m\n\u001b[1;32m----> 1\u001b[1;33m \u001b[0mequivalent_functional_dependencies\u001b[0m\u001b[1;33m(\u001b[0m\u001b[1;33m)\u001b[0m\u001b[1;33m\u001b[0m\u001b[0m\n\u001b[0m",
      "\u001b[1;31mTypeError\u001b[0m: equivalent_functional_dependencies() missing 2 required positional arguments: 'FD_1' and 'FD_2'"
     ]
    }
   ],
   "source": [
    "equivalent_functional_dependencies()"
   ]
  },
  {
   "cell_type": "code",
   "execution_count": 242,
   "metadata": {},
   "outputs": [],
   "source": [
    "def canonical_cover(FD):\n",
    "    #step1 producing singleton rhs\n",
    "    singleton_RHS=[]\n",
    "    for i in range (len(FD)):\n",
    "        for j in FD[i][1]:\n",
    "            singleton_RHS.append([FD[i][0],j])\n",
    "         \n",
    "    #step2 removing redundant FDs\n",
    "    i=0\n",
    "    while(i<len(singleton_RHS)):\n",
    "        \n",
    "        fd=singleton_RHS.pop(i)\n",
    "        closure_set=closure(fd[0],singleton_RHS)\n",
    "        if(not set(fd[1]).issubset(set(closure_set))):\n",
    "            singleton_RHS.insert(i,fd)\n",
    "            i+=1\n",
    "    \n",
    "    #step3 removing redundancy in LHS\n",
    "    \n",
    "    return singleton_RHS"
   ]
  },
  {
   "cell_type": "code",
   "execution_count": 243,
   "metadata": {},
   "outputs": [
    {
     "name": "stdout",
     "output_type": "stream",
     "text": [
      "[['X', 'W'], ['WZ', 'Y'], ['Y', 'X'], ['Y', 'Z']]\n"
     ]
    }
   ],
   "source": [
    "print(canonical_cover([[\"X\",\"W\"],[\"WZ\",\"XY\"],[\"Y\",\"WXZ\"]]))"
   ]
  },
  {
   "cell_type": "code",
   "execution_count": 244,
   "metadata": {},
   "outputs": [],
   "source": [
    "#if attribute is a proper subset of any of the candidate keys\n",
    "def is_prime_attribute(attribute,candidate_keys):\n",
    "    for ck in candidate_keys:\n",
    "        if set(attribute).issubset(set(ck)) and set(attribute)!=set(ck):\n",
    "            return True\n",
    "    return False\n",
    "\n",
    "def is_super_key(superkey,candidate_keys):\n",
    "    for ck in candidate_keys:\n",
    "        if set(ck).issubset(set(superkey)):\n",
    "            return True\n",
    "    return False"
   ]
  },
  {
   "cell_type": "code",
   "execution_count": 245,
   "metadata": {},
   "outputs": [
    {
     "name": "stdout",
     "output_type": "stream",
     "text": [
      "True\n"
     ]
    }
   ],
   "source": [
    "FD=[[\"AB\",\"BC\"],[\"AB\",\"DE\"],[\"E\",\"FG\"],[\"CG\",\"H\"]]\n",
    "#FD=[[\"AB\",\"C\"],[\"C\",\"A\"]]\n",
    "attribute=\"B\"\n",
    "set_of_attributes=\"ABCDEFGH\"\n",
    "#setOfAttributes=\"ABC\"\n",
    "cks=candidate_key(FD,set_of_attributes)\n",
    "print(is_prime_attribute(attribute,cks))"
   ]
  },
  {
   "cell_type": "code",
   "execution_count": 246,
   "metadata": {},
   "outputs": [],
   "source": [
    "def two_nf(FD,set_of_attributes):\n",
    "    candidate_keys=candidate_key(FD,set_of_attributes)\n",
    "    print(candidate_keys)\n",
    "    for fd in FD:\n",
    "        if is_prime_attribute(fd[0],candidate_keys) and not is_prime_attribute(fd[1],candidate_keys):\n",
    "            return False\n",
    "        \n",
    "    print(\"two_nf\")\n",
    "    return True"
   ]
  },
  {
   "cell_type": "code",
   "execution_count": 247,
   "metadata": {},
   "outputs": [],
   "source": [
    "def three_nf(FD,set_of_attributes):\n",
    "    if not two_nf(FD,set_of_attributes):\n",
    "        return False\n",
    "    candidate_keys=candidate_key(FD,set_of_attributes)\n",
    "    for fd in FD:\n",
    "        if not(is_super_key(fd[0],candidate_keys)  or is_prime_attribute(fd[1],candidate_keys) ):\n",
    "            return False\n",
    "    print(\"three_nf\")\n",
    "    return True"
   ]
  },
  {
   "cell_type": "code",
   "execution_count": 248,
   "metadata": {},
   "outputs": [],
   "source": [
    "def bcnf(FD,set_of_attributes):\n",
    "    if not three_nf(FD,set_of_attributes):\n",
    "        return False\n",
    "    candidate_keys=candidate_key(FD,set_of_attributes)\n",
    "    for fd in FD:\n",
    "        if not(is_super_key(fd[0],candidate_keys)):\n",
    "            return False\n",
    "    print(\"bcnf\")\n",
    "    return True"
   ]
  },
  {
   "cell_type": "code",
   "execution_count": null,
   "metadata": {},
   "outputs": [],
   "source": []
  },
  {
   "cell_type": "code",
   "execution_count": null,
   "metadata": {},
   "outputs": [],
   "source": []
  },
  {
   "cell_type": "code",
   "execution_count": null,
   "metadata": {},
   "outputs": [],
   "source": []
  },
  {
   "cell_type": "code",
   "execution_count": null,
   "metadata": {},
   "outputs": [],
   "source": []
  },
  {
   "cell_type": "code",
   "execution_count": null,
   "metadata": {},
   "outputs": [],
   "source": []
  },
  {
   "cell_type": "code",
   "execution_count": null,
   "metadata": {},
   "outputs": [],
   "source": []
  },
  {
   "cell_type": "code",
   "execution_count": null,
   "metadata": {},
   "outputs": [],
   "source": []
  },
  {
   "cell_type": "code",
   "execution_count": 249,
   "metadata": {},
   "outputs": [
    {
     "name": "stdout",
     "output_type": "stream",
     "text": [
      "['A', 'E', 'CD']\n",
      "['A', 'E', 'CD']\n",
      "two_nf\n",
      "three_nf\n",
      "bcnf\n",
      "True\n"
     ]
    }
   ],
   "source": [
    "FD=[[\"A\",\"BC\"],[\"CD\",\"E\"],[\"AB\",\"D\"],[\"E\",\"A\"]]\n",
    "superkey=\"CDB\"\n",
    "set_of_attributes=\"ABCDE\"\n",
    "cks=candidate_key(FD,set_of_attributes)\n",
    "print(cks)\n",
    "\n",
    "print(bcnf(FD,set_of_attributes))"
   ]
  },
  {
   "cell_type": "code",
   "execution_count": null,
   "metadata": {},
   "outputs": [],
   "source": []
  },
  {
   "cell_type": "code",
   "execution_count": null,
   "metadata": {},
   "outputs": [],
   "source": []
  },
  {
   "cell_type": "code",
   "execution_count": null,
   "metadata": {},
   "outputs": [],
   "source": []
  },
  {
   "cell_type": "code",
   "execution_count": null,
   "metadata": {},
   "outputs": [],
   "source": []
  },
  {
   "cell_type": "code",
   "execution_count": null,
   "metadata": {},
   "outputs": [],
   "source": []
  },
  {
   "cell_type": "code",
   "execution_count": null,
   "metadata": {},
   "outputs": [],
   "source": []
  },
  {
   "cell_type": "code",
   "execution_count": null,
   "metadata": {},
   "outputs": [],
   "source": []
  },
  {
   "cell_type": "code",
   "execution_count": null,
   "metadata": {},
   "outputs": [],
   "source": []
  },
  {
   "cell_type": "code",
   "execution_count": null,
   "metadata": {},
   "outputs": [],
   "source": []
  },
  {
   "cell_type": "code",
   "execution_count": null,
   "metadata": {},
   "outputs": [],
   "source": []
  },
  {
   "cell_type": "code",
   "execution_count": null,
   "metadata": {},
   "outputs": [],
   "source": []
  },
  {
   "cell_type": "code",
   "execution_count": null,
   "metadata": {},
   "outputs": [],
   "source": []
  },
  {
   "cell_type": "code",
   "execution_count": null,
   "metadata": {},
   "outputs": [],
   "source": []
  },
  {
   "cell_type": "code",
   "execution_count": null,
   "metadata": {},
   "outputs": [],
   "source": []
  },
  {
   "cell_type": "code",
   "execution_count": null,
   "metadata": {},
   "outputs": [],
   "source": []
  },
  {
   "cell_type": "code",
   "execution_count": null,
   "metadata": {},
   "outputs": [],
   "source": []
  },
  {
   "cell_type": "code",
   "execution_count": null,
   "metadata": {},
   "outputs": [],
   "source": []
  }
 ],
 "metadata": {
  "kernelspec": {
   "display_name": "Python 3",
   "language": "python",
   "name": "python3"
  },
  "language_info": {
   "codemirror_mode": {
    "name": "ipython",
    "version": 3
   },
   "file_extension": ".py",
   "mimetype": "text/x-python",
   "name": "python",
   "nbconvert_exporter": "python",
   "pygments_lexer": "ipython3",
   "version": "3.6.5"
  }
 },
 "nbformat": 4,
 "nbformat_minor": 2
}
