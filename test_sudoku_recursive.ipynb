{
 "cells": [
  {
   "cell_type": "code",
   "execution_count": 6,
   "metadata": {},
   "outputs": [
    {
     "data": {
      "text/plain": [
       "<__main__.GUI_Sudoku at 0x22f067557b8>"
      ]
     },
     "execution_count": 6,
     "metadata": {},
     "output_type": "execute_result"
    }
   ],
   "source": [
    "#import Sudoku_solver as sudoku\n",
    "import tkinter as tkr\n",
    "\n",
    "\n",
    "\n",
    "\n",
    "class GUI_Sudoku(object):\n",
    "\n",
    "    def clear_button(self):\n",
    "        print(\"cleared\")\n",
    "        \n",
    "    def __init__(self):\n",
    "        window= tkr.Tk()\n",
    "        #clear=tkr.Button(window,command = self.clear_button())\n",
    "        window.mainloop() \n",
    "        \n",
    "        \n",
    "GUI_Sudoku()"
   ]
  },
  {
   "cell_type": "code",
   "execution_count": null,
   "metadata": {},
   "outputs": [],
   "source": []
  }
 ],
 "metadata": {
  "kernelspec": {
   "display_name": "Python 3",
   "language": "python",
   "name": "python3"
  },
  "language_info": {
   "codemirror_mode": {
    "name": "ipython",
    "version": 3
   },
   "file_extension": ".py",
   "mimetype": "text/x-python",
   "name": "python",
   "nbconvert_exporter": "python",
   "pygments_lexer": "ipython3",
   "version": "3.6.5"
  }
 },
 "nbformat": 4,
 "nbformat_minor": 2
}
